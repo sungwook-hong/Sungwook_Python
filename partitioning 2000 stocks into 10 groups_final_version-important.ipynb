{
 "cells": [
  {
   "cell_type": "code",
   "execution_count": 1,
   "metadata": {
    "collapsed": true
   },
   "outputs": [],
   "source": [
    "import numpy as np\n",
    "import pandas as pd\n",
    "\n",
    "num_of_stocks = 2000  # the number of stocks given in our problem\n",
    "\n",
    "#DataFrame is created with the csv file\n",
    "df = pd.read_csv('54_hfc_20170614_comp.csv', names=range(num_of_stocks),dtype='float64')"
   ]
  },
  {
   "cell_type": "code",
   "execution_count": 2,
   "metadata": {
    "collapsed": false
   },
   "outputs": [
    {
     "data": {
      "text/plain": [
       "(2000, 2000)"
      ]
     },
     "execution_count": 2,
     "metadata": {},
     "output_type": "execute_result"
    }
   ],
   "source": [
    "#Panda's DataFrame is easier to handle, \n",
    "#but a matrix made in Numpy is much faster to call its values\n",
    "corr_matrix = np.corrcoef(df.T)\n",
    "corr_matrix = np.array(corr_matrix, dtype='float64')\n",
    "corr_matrix.shape"
   ]
  },
  {
   "cell_type": "code",
   "execution_count": 3,
   "metadata": {
    "collapsed": true
   },
   "outputs": [],
   "source": [
    "#defining the functions for calculating TICS, CARS and the value to be minimized\n",
    "\n",
    "def Calc_IC(sub_group_of_stocks):\n",
    "    return np.corrcoef(df.loc[:,sub_group_of_stocks].T).sum()\n",
    "\n",
    "def Calc_TICS(list_of_stocks):\n",
    "    TICS = {}\n",
    "    for i in range(len(list_of_stocks)):\n",
    "        TICS[i]=(Calc_IC(list_of_stocks[i])) #here the number i is the group number\n",
    "    return sum(TICS.values())\n",
    "\n",
    "def Calc_CARS(list_of_stocks): \n",
    "    CARS_dict = {}\n",
    "    CARS_dict.update({'AR{}'.format(i): df[list_of_stocks[i]].mean(axis=1) for i in range(10)})\n",
    "\n",
    "    temp_list = []\n",
    "    for i in range(10):\n",
    "        temp_list.append(CARS_dict['AR{}'.format(i)])\n",
    "    \n",
    "    CARS = np.corrcoef(temp_list).sum()\n",
    "    return CARS\n",
    "\n",
    "def objective_function(list_of_stocks):\n",
    "    return Calc_CARS(list_of_stocks)/Calc_TICS(list_of_stocks)\n",
    "\n"
   ]
  },
  {
   "cell_type": "code",
   "execution_count": 4,
   "metadata": {
    "collapsed": false
   },
   "outputs": [],
   "source": [
    "def find_stock_group(list_of_stocks, stock_number):\n",
    "    for i in range(10):\n",
    "        if stock_number in list_of_stocks[i]:\n",
    "            return (stock_number, i)  #i is the group number \n",
    "        \n",
    "def find_stock_location(list_of_stocks, stock_number):\n",
    "    for i in range(10):\n",
    "        if stock_number in list_of_stocks[i]:\n",
    "            for j in range(200):\n",
    "                if stock_number == list_of_stocks[i,j]:\n",
    "                    return (i,j)  #i is the group number and j is the location within the group\n"
   ]
  },
  {
   "cell_type": "code",
   "execution_count": 7,
   "metadata": {
    "collapsed": false
   },
   "outputs": [],
   "source": [
    "def find_the_next_min(group, reference_set):\n",
    "    index, min_ = 0, 9999  #initialization of the variables\n",
    "    for i in reference_set:\n",
    "        if i not in group:\n",
    "            intra_value = sum([corr_matrix[element,i] for element in group])\n",
    "            inter_value = (corr_matrix[i].sum() - intra_value - 1)\n",
    "            value = abs(inter_value/intra_value)\n",
    "            if value < min_:\n",
    "                index, min_ = i, value\n",
    "    return (index, min_)\n",
    "\n",
    "def add_element_to_group(group, reference_set):\n",
    "    while len(group) < 200:\n",
    "        group.append(find_the_next_min(group, reference_set)[0])\n",
    "\n",
    "def first_element_in_the_next_group(reference_set):\n",
    "    return np.random.choice(list(reference_set))"
   ]
  },
  {
   "cell_type": "code",
   "execution_count": 12,
   "metadata": {
    "collapsed": false
   },
   "outputs": [
    {
     "name": "stdout",
     "output_type": "stream",
     "text": [
      "group_0 has been made\n",
      "group_1 has been made\n",
      "group_2 has been made\n",
      "group_3 has been made\n",
      "group_4 has been made\n",
      "group_5 has been made\n",
      "group_6 has been made\n",
      "group_7 has been made\n",
      "group_8 has been made\n",
      "group_9 has been made\n"
     ]
    }
   ],
   "source": [
    "#temp list of stocks before partitioning\n",
    "list_of_stocks = np.arange(2000).reshape(10,200)\n",
    "reference_set = set(list(range(1,2000)))\n",
    "group_0 = []\n",
    "group_0.append(np.random.choice(list(reference_set)))\n",
    "\n",
    "for i in range(1, 10):  #making the empty lists from group_1 through group_9 \n",
    "    temp = ''           #group_0 has been already made in the line above\n",
    "    temp = 'group_'+str(i)+'=[]'\n",
    "    exec(temp)\n",
    "\n",
    "def find_partitions(reference_set):\n",
    "    for i in range(10):\n",
    "        add_element_to_group(eval('group_{}'.format(i)), reference_set)\n",
    "        reference_set = reference_set - set(eval('group_{}'.format(i)))\n",
    "        print('group_{} has been made'.format(i))\n",
    "        i += 1\n",
    "        if i != 10:\n",
    "            eval('group_{}'.format(i)).append(first_element_in_the_next_group(reference_set))\n",
    "\n",
    "find_partitions(reference_set)\n",
    "\n",
    "for i in range(10):\n",
    "    list_of_stocks[i] = eval('group_{}'.format(i))  "
   ]
  },
  {
   "cell_type": "code",
   "execution_count": 13,
   "metadata": {
    "collapsed": false
   },
   "outputs": [
    {
     "data": {
      "text/plain": [
       "0.00056742933046105223"
      ]
     },
     "execution_count": 13,
     "metadata": {},
     "output_type": "execute_result"
    }
   ],
   "source": [
    "objective_function(list_of_stocks)"
   ]
  },
  {
   "cell_type": "code",
   "execution_count": 40,
   "metadata": {
    "collapsed": false
   },
   "outputs": [],
   "source": [
    "initial_list_of_stocks = list_of_stocks.copy()\n",
    "current_min = objective_function(initial_list_of_stocks)"
   ]
  },
  {
   "cell_type": "code",
   "execution_count": 36,
   "metadata": {
    "collapsed": false
   },
   "outputs": [],
   "source": [
    "objective_function(initial_list_of_stocks)\n",
    "list_of_stocks = initial_list_of_stocks.copy()"
   ]
  },
  {
   "cell_type": "code",
   "execution_count": 37,
   "metadata": {
    "collapsed": false
   },
   "outputs": [],
   "source": [
    "stock_location_dict = {}\n",
    "for i in range(num_of_stocks):\n",
    "    stock_location_dict[i] = find_stock_location(list_of_stocks, i)\n",
    "\n",
    "#in this method, stock_location_dict needs to be updated whenever locations changed\n",
    "def fast_stock_location(stock_number):\n",
    "    return stock_location_dict[stock_number]\n",
    "\n",
    "#swap function will be used when exchanging a pair of stocks between two different groups\n",
    "def swap(list_of_stocks,stock1,stock2):\n",
    "    loc_of_stock1 = fast_stock_location(stock1)\n",
    "    loc_of_stock2 = fast_stock_location(stock2)\n",
    "    list_of_stocks[loc_of_stock1], list_of_stocks[loc_of_stock2] = list_of_stocks[loc_of_stock2], list_of_stocks[loc_of_stock1]\n",
    "    stock_location_dict.update({stock1:loc_of_stock2, stock2: loc_of_stock1})"
   ]
  },
  {
   "cell_type": "code",
   "execution_count": 38,
   "metadata": {
    "collapsed": false
   },
   "outputs": [],
   "source": [
    "reference_total = set(np.arange(2000))\n",
    "def find_the_min(list_of_stocks, group_list, stock_loc): #stock_loc is the location index within the group\n",
    "    stock = group_list[stock_loc]\n",
    "    reference = reference_total - set(group_list) | {stock}\n",
    "    result = find_the_next_min(np.delete(group_list,stock_loc), reference)\n",
    "    global current_min\n",
    "    if result[0] != stock: \n",
    "        swap(list_of_stocks, stock, result[0])\n",
    "        temp_ = objective_function(list_of_stocks)\n",
    "        if  temp_ < current_min:\n",
    "            current_min = temp_\n",
    "            print('Swapped, now the min value is', current_min)\n",
    "        else: \n",
    "            swap(list_of_stocks, stock, result[0])\n",
    "            "
   ]
  },
  {
   "cell_type": "code",
   "execution_count": 41,
   "metadata": {
    "collapsed": false
   },
   "outputs": [
    {
     "data": {
      "text/plain": [
       "0.00056690105683621583"
      ]
     },
     "execution_count": 41,
     "metadata": {},
     "output_type": "execute_result"
    }
   ],
   "source": [
    "current_min"
   ]
  },
  {
   "cell_type": "code",
   "execution_count": 42,
   "metadata": {
    "collapsed": false
   },
   "outputs": [],
   "source": [
    "def optimize_the_first_part(list_of_stocks):\n",
    "    for i in range(50): #here i is the column number (first i elements in each group)\n",
    "        print(i, 'has started')\n",
    "        for j in range(10): #j is the row number (group number)\n",
    "            find_the_min(list_of_stocks, list_of_stocks[j],i)\n",
    "\n",
    "def random_optimize(list_of_stocks, num_of_iteration):\n",
    "    for i in range(num_of_iteration):\n",
    "        find_the_min(list_of_stocks, list_of_stocks[np.random.randint(10)],np.random.randint(200))\n",
    "\n",
    "def optimize_the_second_part(list_of_stocks):\n",
    "    for i in range(150,200): #here i is the column number (first i elements in each group)\n",
    "        print(i, 'has started')\n",
    "        for j in range(10): #j is the row number (group number)\n",
    "            find_the_min(list_of_stocks, list_of_stocks[j],i)\n",
    "            \n",
    "def optimize_the_whole_part(list_of_stocks, num_of_iteration):\n",
    "    for number in range(num_of_iteration):\n",
    "        optimize_the_first_part(list_of_stocks)\n",
    "        optimize_the_second_part(list_of_stocks)"
   ]
  },
  {
   "cell_type": "code",
   "execution_count": 43,
   "metadata": {
    "collapsed": false
   },
   "outputs": [
    {
     "name": "stdout",
     "output_type": "stream",
     "text": [
      "0 has started\n",
      "Swapped, now the min value is 0.0005662944353\n",
      "1 has started\n",
      "Swapped, now the min value is 0.000566224595319\n",
      "Swapped, now the min value is 0.000566202009791\n",
      "2 has started\n",
      "Swapped, now the min value is 0.000566095000097\n",
      "3 has started\n",
      "4 has started\n",
      "Swapped, now the min value is 0.000565949206528\n",
      "5 has started\n",
      "Swapped, now the min value is 0.000565928434548\n",
      "6 has started\n",
      "Swapped, now the min value is 0.000565823165413\n",
      "7 has started\n",
      "8 has started\n",
      "9 has started\n",
      "10 has started\n",
      "11 has started\n",
      "12 has started\n",
      "13 has started\n",
      "14 has started\n",
      "15 has started\n",
      "16 has started\n",
      "17 has started\n",
      "18 has started\n",
      "19 has started\n",
      "20 has started\n",
      "21 has started\n",
      "22 has started\n",
      "23 has started\n",
      "24 has started\n",
      "25 has started\n",
      "26 has started\n",
      "27 has started\n",
      "28 has started\n",
      "29 has started\n",
      "30 has started\n",
      "31 has started\n",
      "32 has started\n",
      "33 has started\n",
      "34 has started\n",
      "35 has started\n",
      "36 has started\n",
      "37 has started\n",
      "Swapped, now the min value is 0.000565791136261\n",
      "38 has started\n",
      "Swapped, now the min value is 0.000565773376104\n",
      "39 has started\n",
      "40 has started\n",
      "41 has started\n",
      "42 has started\n",
      "43 has started\n",
      "Swapped, now the min value is 0.000565687206465\n",
      "44 has started\n",
      "Swapped, now the min value is 0.000565559269248\n",
      "45 has started\n",
      "46 has started\n",
      "47 has started\n",
      "48 has started\n",
      "49 has started\n",
      "Swapped, now the min value is 0.000565517201065\n",
      "150 has started\n",
      "Swapped, now the min value is 0.000565429726556\n",
      "151 has started\n",
      "152 has started\n",
      "Swapped, now the min value is 0.000565383443299\n",
      "153 has started\n",
      "154 has started\n",
      "155 has started\n",
      "156 has started\n",
      "157 has started\n",
      "158 has started\n",
      "159 has started\n",
      "160 has started\n",
      "161 has started\n",
      "162 has started\n",
      "163 has started\n",
      "164 has started\n",
      "165 has started\n",
      "166 has started\n",
      "167 has started\n",
      "168 has started\n",
      "169 has started\n",
      "170 has started\n",
      "171 has started\n",
      "172 has started\n",
      "Swapped, now the min value is 0.000565106761822\n",
      "173 has started\n",
      "174 has started\n",
      "Swapped, now the min value is 0.000565078954571\n",
      "175 has started\n",
      "176 has started\n",
      "177 has started\n",
      "178 has started\n",
      "179 has started\n",
      "180 has started\n",
      "181 has started\n",
      "182 has started\n",
      "183 has started\n",
      "184 has started\n",
      "185 has started\n",
      "186 has started\n",
      "187 has started\n",
      "188 has started\n",
      "189 has started\n",
      "190 has started\n",
      "191 has started\n",
      "192 has started\n",
      "193 has started\n",
      "194 has started\n",
      "195 has started\n",
      "196 has started\n",
      "197 has started\n",
      "198 has started\n",
      "199 has started\n",
      "Swapped, now the min value is 0.000565027393884\n",
      "0 has started\n",
      "1 has started\n",
      "2 has started\n",
      "3 has started\n",
      "4 has started\n",
      "5 has started\n",
      "6 has started\n",
      "7 has started\n",
      "8 has started\n",
      "9 has started\n",
      "10 has started\n",
      "11 has started\n",
      "12 has started\n",
      "13 has started\n",
      "14 has started\n",
      "15 has started\n",
      "16 has started\n",
      "17 has started\n",
      "18 has started\n",
      "19 has started\n",
      "20 has started\n",
      "21 has started\n",
      "22 has started\n",
      "23 has started\n",
      "24 has started\n",
      "25 has started\n",
      "26 has started\n",
      "27 has started\n",
      "28 has started\n",
      "29 has started\n",
      "30 has started\n",
      "31 has started\n",
      "32 has started\n",
      "33 has started\n",
      "34 has started\n",
      "35 has started\n",
      "36 has started\n",
      "37 has started\n",
      "38 has started\n",
      "39 has started\n",
      "40 has started\n",
      "41 has started\n",
      "42 has started\n",
      "43 has started\n",
      "44 has started\n",
      "45 has started\n",
      "46 has started\n",
      "47 has started\n",
      "48 has started\n",
      "49 has started\n",
      "150 has started\n",
      "151 has started\n",
      "152 has started\n",
      "153 has started\n",
      "Swapped, now the min value is 0.000565003376886\n",
      "154 has started\n",
      "155 has started\n",
      "156 has started\n",
      "157 has started\n",
      "158 has started\n",
      "159 has started\n",
      "160 has started\n",
      "161 has started\n",
      "162 has started\n",
      "163 has started\n",
      "164 has started\n",
      "165 has started\n",
      "166 has started\n",
      "167 has started\n",
      "168 has started\n",
      "169 has started\n",
      "170 has started\n",
      "171 has started\n",
      "172 has started\n",
      "173 has started\n",
      "174 has started\n",
      "175 has started\n",
      "176 has started\n",
      "177 has started\n",
      "178 has started\n",
      "179 has started\n",
      "180 has started\n",
      "181 has started\n",
      "182 has started\n",
      "183 has started\n",
      "184 has started\n",
      "185 has started\n",
      "186 has started\n",
      "187 has started\n",
      "188 has started\n",
      "189 has started\n",
      "190 has started\n",
      "191 has started\n",
      "192 has started\n",
      "193 has started\n",
      "194 has started\n",
      "195 has started\n",
      "196 has started\n",
      "197 has started\n",
      "198 has started\n",
      "199 has started\n"
     ]
    }
   ],
   "source": [
    "optimize_the_whole_part(list_of_stocks,2)"
   ]
  },
  {
   "cell_type": "code",
   "execution_count": 34,
   "metadata": {
    "collapsed": false
   },
   "outputs": [
    {
     "name": "stdout",
     "output_type": "stream",
     "text": [
      "10 has started\n",
      "11 has started\n",
      "12 has started\n",
      "13 has started\n",
      "14 has started\n",
      "15 has started\n",
      "16 has started\n",
      "17 has started\n",
      "18 has started\n",
      "19 has started\n"
     ]
    }
   ],
   "source": [
    "optimize_the_first_part(list_of_stocks)"
   ]
  },
  {
   "cell_type": "code",
   "execution_count": 196,
   "metadata": {
    "collapsed": false
   },
   "outputs": [
    {
     "name": "stdout",
     "output_type": "stream",
     "text": [
      "190 has started\n",
      "191 has started\n",
      "192 has started\n",
      "Swapped, now the min value is 0.000565494140734\n",
      "193 has started\n",
      "194 has started\n",
      "195 has started\n",
      "196 has started\n",
      "197 has started\n",
      "198 has started\n",
      "199 has started\n"
     ]
    }
   ],
   "source": [
    "optimize_the_second_part(list_of_stocks)"
   ]
  },
  {
   "cell_type": "code",
   "execution_count": 44,
   "metadata": {
    "collapsed": false
   },
   "outputs": [
    {
     "data": {
      "text/plain": [
       "0.0005650033768857546"
      ]
     },
     "execution_count": 44,
     "metadata": {},
     "output_type": "execute_result"
    }
   ],
   "source": [
    "objective_function(list_of_stocks)"
   ]
  },
  {
   "cell_type": "code",
   "execution_count": 45,
   "metadata": {
    "collapsed": true
   },
   "outputs": [],
   "source": [
    "answer_list = list_of_stocks.copy()"
   ]
  },
  {
   "cell_type": "code",
   "execution_count": 46,
   "metadata": {
    "collapsed": false
   },
   "outputs": [
    {
     "data": {
      "text/plain": [
       "0.0005650033768857546"
      ]
     },
     "execution_count": 46,
     "metadata": {},
     "output_type": "execute_result"
    }
   ],
   "source": [
    "current_min"
   ]
  },
  {
   "cell_type": "code",
   "execution_count": 47,
   "metadata": {
    "collapsed": false
   },
   "outputs": [
    {
     "data": {
      "text/plain": [
       "2000"
      ]
     },
     "execution_count": 47,
     "metadata": {},
     "output_type": "execute_result"
    }
   ],
   "source": [
    "a = set()\n",
    "for i in range(10):\n",
    "    a.update(set(list_of_stocks[i]))\n",
    "len(a) #this shows that there is no dupulicated element\n",
    "\n"
   ]
  },
  {
   "cell_type": "code",
   "execution_count": 48,
   "metadata": {
    "collapsed": false
   },
   "outputs": [],
   "source": [
    "def minimize(list_of_stocks, fixed_row = 0,fixed_col = 199):\n",
    "    result = {}\n",
    "    global current_min\n",
    "    \n",
    "    for i in range(0,10):\n",
    "        if i != fixed_row: #here being in the same row means being in the same group - so avoids the case\n",
    "            print(i, 'started')\n",
    "            for j in range(0,199):\n",
    "                temp_list = list_of_stocks.copy()\n",
    "                swap(temp_list,temp_list[fixed_row,j],temp_list[i,fixed_col])\n",
    "                temp_ = objective_function(temp_list)\n",
    "                if  temp_ < current_min:\n",
    "                    current_min = temp_\n",
    "                    print('found',(list_of_stocks[fixed_row,j],list_of_stocks[i,fixed_col]), temp_)\n",
    "                    result[(list_of_stocks[fixed_row,j],list_of_stocks[i,fixed_col])] = temp_ \n",
    "    return result\n",
    "swap(list_of_stocks, stock, result[0])\n",
    "        temp_ = objective_function(list_of_stocks)\n",
    "        if  temp_ < current_min:\n",
    "            current_min = temp_\n",
    "            print('Swapped, now the min value is', current_min)\n",
    "        else: \n",
    "            swap(list_of_stocks, stock, result[0])\n",
    "#starting fixed_row = 0, fixed_col = 199\n",
    "#in the swapping process, \n",
    "#I chose the very last elements in each group first as they contribute to the TICS the least"
   ]
  },
  {
   "cell_type": "code",
   "execution_count": 49,
   "metadata": {
    "collapsed": false
   },
   "outputs": [
    {
     "name": "stdout",
     "output_type": "stream",
     "text": [
      "1 started\n"
     ]
    },
    {
     "ename": "TypeError",
     "evalue": "'NoneType' object is not subscriptable",
     "output_type": "error",
     "traceback": [
      "\u001b[0;31m---------------------------------------------------------------------------\u001b[0m",
      "\u001b[0;31mTypeError\u001b[0m                                 Traceback (most recent call last)",
      "\u001b[0;32m<ipython-input-49-488e98a3f166>\u001b[0m in \u001b[0;36m<module>\u001b[0;34m()\u001b[0m\n\u001b[0;32m----> 1\u001b[0;31m \u001b[0mminimize\u001b[0m\u001b[0;34m(\u001b[0m\u001b[0mlist_of_stocks\u001b[0m\u001b[0;34m)\u001b[0m\u001b[0;34m\u001b[0m\u001b[0m\n\u001b[0m",
      "\u001b[0;32m<ipython-input-48-5265177e6fce>\u001b[0m in \u001b[0;36mminimize\u001b[0;34m(list_of_stocks, fixed_row, fixed_col)\u001b[0m\n\u001b[1;32m      8\u001b[0m             \u001b[0;32mfor\u001b[0m \u001b[0mj\u001b[0m \u001b[0;32min\u001b[0m \u001b[0mrange\u001b[0m\u001b[0;34m(\u001b[0m\u001b[0;36m0\u001b[0m\u001b[0;34m,\u001b[0m\u001b[0;36m199\u001b[0m\u001b[0;34m)\u001b[0m\u001b[0;34m:\u001b[0m\u001b[0;34m\u001b[0m\u001b[0m\n\u001b[1;32m      9\u001b[0m                 \u001b[0mtemp_list\u001b[0m \u001b[0;34m=\u001b[0m \u001b[0mlist_of_stocks\u001b[0m\u001b[0;34m.\u001b[0m\u001b[0mcopy\u001b[0m\u001b[0;34m(\u001b[0m\u001b[0;34m)\u001b[0m\u001b[0;34m\u001b[0m\u001b[0m\n\u001b[0;32m---> 10\u001b[0;31m                 \u001b[0mtemp_\u001b[0m \u001b[0;34m=\u001b[0m \u001b[0mobjective_function\u001b[0m\u001b[0;34m(\u001b[0m\u001b[0mswap\u001b[0m\u001b[0;34m(\u001b[0m\u001b[0mtemp_list\u001b[0m\u001b[0;34m,\u001b[0m\u001b[0mtemp_list\u001b[0m\u001b[0;34m[\u001b[0m\u001b[0mfixed_row\u001b[0m\u001b[0;34m,\u001b[0m\u001b[0mj\u001b[0m\u001b[0;34m]\u001b[0m\u001b[0;34m,\u001b[0m\u001b[0mtemp_list\u001b[0m\u001b[0;34m[\u001b[0m\u001b[0mi\u001b[0m\u001b[0;34m,\u001b[0m\u001b[0mfixed_col\u001b[0m\u001b[0;34m]\u001b[0m\u001b[0;34m)\u001b[0m\u001b[0;34m)\u001b[0m\u001b[0;34m\u001b[0m\u001b[0m\n\u001b[0m\u001b[1;32m     11\u001b[0m                 \u001b[0;32mif\u001b[0m  \u001b[0mtemp_\u001b[0m \u001b[0;34m<\u001b[0m \u001b[0mcurrent_min\u001b[0m\u001b[0;34m:\u001b[0m\u001b[0;34m\u001b[0m\u001b[0m\n\u001b[1;32m     12\u001b[0m                     \u001b[0mcurrent_min\u001b[0m \u001b[0;34m=\u001b[0m \u001b[0mtemp_\u001b[0m\u001b[0;34m\u001b[0m\u001b[0m\n",
      "\u001b[0;32m<ipython-input-3-572ca7172817>\u001b[0m in \u001b[0;36mobjective_function\u001b[0;34m(list_of_stocks)\u001b[0m\n\u001b[1;32m     22\u001b[0m \u001b[0;34m\u001b[0m\u001b[0m\n\u001b[1;32m     23\u001b[0m \u001b[0;32mdef\u001b[0m \u001b[0mobjective_function\u001b[0m\u001b[0;34m(\u001b[0m\u001b[0mlist_of_stocks\u001b[0m\u001b[0;34m)\u001b[0m\u001b[0;34m:\u001b[0m\u001b[0;34m\u001b[0m\u001b[0m\n\u001b[0;32m---> 24\u001b[0;31m     \u001b[0;32mreturn\u001b[0m \u001b[0mCalc_CARS\u001b[0m\u001b[0;34m(\u001b[0m\u001b[0mlist_of_stocks\u001b[0m\u001b[0;34m)\u001b[0m\u001b[0;34m/\u001b[0m\u001b[0mCalc_TICS\u001b[0m\u001b[0;34m(\u001b[0m\u001b[0mlist_of_stocks\u001b[0m\u001b[0;34m)\u001b[0m\u001b[0;34m\u001b[0m\u001b[0m\n\u001b[0m\u001b[1;32m     25\u001b[0m \u001b[0;34m\u001b[0m\u001b[0m\n",
      "\u001b[0;32m<ipython-input-3-572ca7172817>\u001b[0m in \u001b[0;36mCalc_CARS\u001b[0;34m(list_of_stocks)\u001b[0m\n\u001b[1;32m     12\u001b[0m \u001b[0;32mdef\u001b[0m \u001b[0mCalc_CARS\u001b[0m\u001b[0;34m(\u001b[0m\u001b[0mlist_of_stocks\u001b[0m\u001b[0;34m)\u001b[0m\u001b[0;34m:\u001b[0m\u001b[0;34m\u001b[0m\u001b[0m\n\u001b[1;32m     13\u001b[0m     \u001b[0mCARS_dict\u001b[0m \u001b[0;34m=\u001b[0m \u001b[0;34m{\u001b[0m\u001b[0;34m}\u001b[0m\u001b[0;34m\u001b[0m\u001b[0m\n\u001b[0;32m---> 14\u001b[0;31m     \u001b[0mCARS_dict\u001b[0m\u001b[0;34m.\u001b[0m\u001b[0mupdate\u001b[0m\u001b[0;34m(\u001b[0m\u001b[0;34m{\u001b[0m\u001b[0;34m'AR{}'\u001b[0m\u001b[0;34m.\u001b[0m\u001b[0mformat\u001b[0m\u001b[0;34m(\u001b[0m\u001b[0mi\u001b[0m\u001b[0;34m)\u001b[0m\u001b[0;34m:\u001b[0m \u001b[0mdf\u001b[0m\u001b[0;34m[\u001b[0m\u001b[0mlist_of_stocks\u001b[0m\u001b[0;34m[\u001b[0m\u001b[0mi\u001b[0m\u001b[0;34m]\u001b[0m\u001b[0;34m]\u001b[0m\u001b[0;34m.\u001b[0m\u001b[0mmean\u001b[0m\u001b[0;34m(\u001b[0m\u001b[0maxis\u001b[0m\u001b[0;34m=\u001b[0m\u001b[0;36m1\u001b[0m\u001b[0;34m)\u001b[0m \u001b[0;32mfor\u001b[0m \u001b[0mi\u001b[0m \u001b[0;32min\u001b[0m \u001b[0mrange\u001b[0m\u001b[0;34m(\u001b[0m\u001b[0;36m10\u001b[0m\u001b[0;34m)\u001b[0m\u001b[0;34m}\u001b[0m\u001b[0;34m)\u001b[0m\u001b[0;34m\u001b[0m\u001b[0m\n\u001b[0m\u001b[1;32m     15\u001b[0m \u001b[0;34m\u001b[0m\u001b[0m\n\u001b[1;32m     16\u001b[0m     \u001b[0mtemp_list\u001b[0m \u001b[0;34m=\u001b[0m \u001b[0;34m[\u001b[0m\u001b[0;34m]\u001b[0m\u001b[0;34m\u001b[0m\u001b[0m\n",
      "\u001b[0;32m<ipython-input-3-572ca7172817>\u001b[0m in \u001b[0;36m<dictcomp>\u001b[0;34m(.0)\u001b[0m\n\u001b[1;32m     12\u001b[0m \u001b[0;32mdef\u001b[0m \u001b[0mCalc_CARS\u001b[0m\u001b[0;34m(\u001b[0m\u001b[0mlist_of_stocks\u001b[0m\u001b[0;34m)\u001b[0m\u001b[0;34m:\u001b[0m\u001b[0;34m\u001b[0m\u001b[0m\n\u001b[1;32m     13\u001b[0m     \u001b[0mCARS_dict\u001b[0m \u001b[0;34m=\u001b[0m \u001b[0;34m{\u001b[0m\u001b[0;34m}\u001b[0m\u001b[0;34m\u001b[0m\u001b[0m\n\u001b[0;32m---> 14\u001b[0;31m     \u001b[0mCARS_dict\u001b[0m\u001b[0;34m.\u001b[0m\u001b[0mupdate\u001b[0m\u001b[0;34m(\u001b[0m\u001b[0;34m{\u001b[0m\u001b[0;34m'AR{}'\u001b[0m\u001b[0;34m.\u001b[0m\u001b[0mformat\u001b[0m\u001b[0;34m(\u001b[0m\u001b[0mi\u001b[0m\u001b[0;34m)\u001b[0m\u001b[0;34m:\u001b[0m \u001b[0mdf\u001b[0m\u001b[0;34m[\u001b[0m\u001b[0mlist_of_stocks\u001b[0m\u001b[0;34m[\u001b[0m\u001b[0mi\u001b[0m\u001b[0;34m]\u001b[0m\u001b[0;34m]\u001b[0m\u001b[0;34m.\u001b[0m\u001b[0mmean\u001b[0m\u001b[0;34m(\u001b[0m\u001b[0maxis\u001b[0m\u001b[0;34m=\u001b[0m\u001b[0;36m1\u001b[0m\u001b[0;34m)\u001b[0m \u001b[0;32mfor\u001b[0m \u001b[0mi\u001b[0m \u001b[0;32min\u001b[0m \u001b[0mrange\u001b[0m\u001b[0;34m(\u001b[0m\u001b[0;36m10\u001b[0m\u001b[0;34m)\u001b[0m\u001b[0;34m}\u001b[0m\u001b[0;34m)\u001b[0m\u001b[0;34m\u001b[0m\u001b[0m\n\u001b[0m\u001b[1;32m     15\u001b[0m \u001b[0;34m\u001b[0m\u001b[0m\n\u001b[1;32m     16\u001b[0m     \u001b[0mtemp_list\u001b[0m \u001b[0;34m=\u001b[0m \u001b[0;34m[\u001b[0m\u001b[0;34m]\u001b[0m\u001b[0;34m\u001b[0m\u001b[0m\n",
      "\u001b[0;31mTypeError\u001b[0m: 'NoneType' object is not subscriptable"
     ]
    }
   ],
   "source": [
    "minimize(list_of_stocks)"
   ]
  },
  {
   "cell_type": "code",
   "execution_count": null,
   "metadata": {
    "collapsed": true
   },
   "outputs": [],
   "source": []
  }
 ],
 "metadata": {
  "kernelspec": {
   "display_name": "Python 3",
   "language": "python",
   "name": "python3"
  },
  "language_info": {
   "codemirror_mode": {
    "name": "ipython",
    "version": 3
   },
   "file_extension": ".py",
   "mimetype": "text/x-python",
   "name": "python",
   "nbconvert_exporter": "python",
   "pygments_lexer": "ipython3",
   "version": "3.6.0"
  }
 },
 "nbformat": 4,
 "nbformat_minor": 2
}
