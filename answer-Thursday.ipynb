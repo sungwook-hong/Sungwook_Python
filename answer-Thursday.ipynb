{
 "cells": [
  {
   "cell_type": "code",
   "execution_count": 1,
   "metadata": {
    "collapsed": true
   },
   "outputs": [],
   "source": [
    "import numpy as np\n",
    "import pandas as pd\n",
    "\n",
    "num_of_stocks = 2000  # the number of stocks given in our problem\n",
    "\n",
    "#DataFrame is created with the csv file\n",
    "df = pd.read_csv('54_hfc_20170614_comp.csv', names=range(num_of_stocks),dtype='float64')"
   ]
  },
  {
   "cell_type": "code",
   "execution_count": 2,
   "metadata": {
    "collapsed": false
   },
   "outputs": [
    {
     "data": {
      "text/plain": [
       "(2000, 2000)"
      ]
     },
     "execution_count": 2,
     "metadata": {},
     "output_type": "execute_result"
    }
   ],
   "source": [
    "#Panda's DataFrame is easier to handle, \n",
    "#but a matrix made in Numpy is much faster to call its values\n",
    "corr_matrix = np.corrcoef(df.T)\n",
    "corr_matrix = np.array(corr_matrix, dtype='float64')\n",
    "corr_matrix.shape"
   ]
  },
  {
   "cell_type": "code",
   "execution_count": 3,
   "metadata": {
    "collapsed": false
   },
   "outputs": [],
   "source": [
    "corr_matrix_sorted_elements_row = []\n",
    "corr_matrix_sorted_200_elements_row = [] \n",
    "corr_matrix_score = []\n",
    "for i in range(2000):\n",
    "    corr_matrix_sorted_elements_row.append(np.flipud(corr_matrix[i].argsort()))\n",
    "    corr_matrix_sorted_200_elements_row.append(corr_matrix_sorted_elements_row[i][:200])\n",
    "    corr_matrix_score.append(corr_matrix[i][corr_matrix_sorted_200_elements_row[i]].sum()/corr_matrix[i][corr_matrix_sorted_elements_row[i][200:]].sum())"
   ]
  },
  {
   "cell_type": "code",
   "execution_count": 4,
   "metadata": {
    "collapsed": false
   },
   "outputs": [
    {
     "data": {
      "text/plain": [
       "array([1837, 1862, 1579, 1650,  599, 1493, 1959,    3, 1657, 1914, 1895,\n",
       "       1729, 1573, 1898, 1281, 1911, 1300, 1511, 1702, 1743])"
      ]
     },
     "execution_count": 4,
     "metadata": {},
     "output_type": "execute_result"
    }
   ],
   "source": [
    "sorted_center = np.flipud(np.array(corr_matrix_score).argsort())\n",
    "sorted_center[:20]"
   ]
  },
  {
   "cell_type": "code",
   "execution_count": null,
   "metadata": {
    "collapsed": true
   },
   "outputs": [],
   "source": []
  },
  {
   "cell_type": "code",
   "execution_count": 5,
   "metadata": {
    "collapsed": false
   },
   "outputs": [
    {
     "data": {
      "text/plain": [
       "array([1837, 1718,  142, 1849, 1775,  483, 1817,  835, 1714,  720, 1200,\n",
       "       1854,  634, 1728, 1533, 1946, 1163, 1359, 1993, 1710, 1989, 1979,\n",
       "       1892,  732,  509, 1797,  272, 1100, 1862,  197, 1165, 1941,  180,\n",
       "       1624, 1585, 1712, 1496, 1894, 1932, 1801,  356, 1166, 1561, 1402,\n",
       "       1936, 1858, 1110, 1459,  694, 1789, 1981, 1772, 1724,  599, 1897,\n",
       "        121, 1192, 1864, 1896, 1003, 1511, 1771,    3, 1750,  848, 1541,\n",
       "       1287, 1122, 1156, 1868,  868, 1867, 1883, 1378,  822, 1416, 1729,\n",
       "       1924, 1785, 1865, 1327, 1916, 1843, 1262, 1358,  910, 1818,  756,\n",
       "       1790,  865, 1524, 1784,  474, 1977, 1730, 1366, 1875,  165,  667,\n",
       "       1805, 1390, 1840,  526,  995, 1764,  155, 1225, 1763,  377, 1413,\n",
       "       1982,  593,  380, 1069,  668,  378,  661,  409, 1482,  275, 1300,\n",
       "        902, 1918, 1803,  767,  678,  200, 1127,  653, 1436, 1241, 1734,\n",
       "        662, 1391, 1802,  663,  898, 1161, 1313, 1121, 1683,  709, 1552,\n",
       "       1761, 1233, 1184, 1943, 1207, 1847, 1091,  535,  691,   19,  241,\n",
       "        972,  174, 1692, 1813,   17,  905, 1987,   32,   95, 1928,  575,\n",
       "        282, 1409,  449, 1126,  491, 1874, 1665, 1927, 1719,  717, 1627,\n",
       "       1645,  809, 1199,   97, 1673, 1992, 1910, 1821,  148, 1432, 1702,\n",
       "       1491,  787, 1344,  412,  288,  816,  263,  306,  647, 1690, 1717,\n",
       "        912,  957])"
      ]
     },
     "execution_count": 5,
     "metadata": {},
     "output_type": "execute_result"
    }
   ],
   "source": [
    "corr_matrix_sorted_200_elements_row[1837]"
   ]
  },
  {
   "cell_type": "code",
   "execution_count": 6,
   "metadata": {
    "collapsed": false
   },
   "outputs": [
    {
     "data": {
      "text/plain": [
       "array([1862, 1493, 1927, 1907, 1947, 1867, 1920, 1454, 1974, 1994, 1708,\n",
       "       1523, 1602, 1943, 1909, 1977, 1932, 1870,  726, 1524, 1729, 1662,\n",
       "       1996, 1945, 1986, 1998,  575, 1412, 1303,  628, 1969, 1629, 1938,\n",
       "       1815, 1837, 1852, 1910, 1389, 1934,  447, 1971, 1822,  641,  509,\n",
       "       1577,  698,  218,  671,  703, 1889,  953,  573,  400,  894,  725,\n",
       "        732,  656, 1993, 1419, 1836, 1940, 1603,  243,  737, 1842, 1259,\n",
       "       1919,  175, 1675, 1983,  236, 1644, 1094,  911,  542,  507, 1922,\n",
       "       1261,  832, 1499,  505, 1445,  795, 1656, 1739, 1711, 1887, 1960,\n",
       "        931,   98, 1007, 1164,  653, 1782,   88, 1459, 1984, 1498, 1185,\n",
       "       1979,  760,  341, 1446,  648,  364, 1284, 1202, 1615,  283, 1619,\n",
       "        475,  484,  607,  982,  756, 1176,  739, 1942,  996, 1865, 1298,\n",
       "       1439, 1325, 1936,  617, 1817, 1404, 1775, 1624, 1351, 1804,  881,\n",
       "        478, 1767, 1339,  552,  923, 1118,  835,  922, 1126, 1881, 1710,\n",
       "        887, 1301,  404,  272,  429, 1893, 1906, 1413, 1640, 1684,  616,\n",
       "        469,  912, 1218,  932, 1105, 1203,  898,  859, 1115, 1133, 1158,\n",
       "       1835, 1043,   26, 1626, 1905,  519, 1897, 1230, 1841, 1262, 1054,\n",
       "       1826,  258,  225, 1501,  268,   33,  938, 1121,  759, 1091,  948,\n",
       "        471, 1212, 1020,  472, 1403, 1830,  711, 1119, 1990, 1525,  925,\n",
       "        122,   63])"
      ]
     },
     "execution_count": 6,
     "metadata": {},
     "output_type": "execute_result"
    }
   ],
   "source": [
    "corr_matrix_sorted_200_elements_row[1862]"
   ]
  },
  {
   "cell_type": "code",
   "execution_count": 36,
   "metadata": {
    "collapsed": false
   },
   "outputs": [
    {
     "data": {
      "text/plain": [
       "18"
      ]
     },
     "execution_count": 36,
     "metadata": {},
     "output_type": "execute_result"
    }
   ],
   "source": [
    "len(set(corr_matrix_sorted_200_elements_row[1579])&set(corr_matrix_sorted_200_elements_row[1862]) )"
   ]
  },
  {
   "cell_type": "code",
   "execution_count": 13,
   "metadata": {
    "collapsed": false
   },
   "outputs": [],
   "source": [
    "def test(k, thresh):\n",
    "    list_of_stocks = []\n",
    "    list_of_stocks.append(corr_matrix_sorted_200_elements_row[k])\n",
    "\n",
    "    for i in sorted_center[:200]:\n",
    "        state = False\n",
    "        if i != sorted_center[k]:\n",
    "            #print('i=',i)\n",
    "            for j in range(len(list_of_stocks)):\n",
    "                #print('j=',j)\n",
    "                if len(set(corr_matrix_sorted_200_elements_row[i]) & set(list_of_stocks[j]))  >= thresh:\n",
    "                    #print('YES')\n",
    "                    state = True\n",
    "                    break\n",
    "            if state != True:\n",
    "                if len(list_of_stocks) < 10:\n",
    "                    list_of_stocks.append(corr_matrix_sorted_200_elements_row[i])\n",
    "                else:\n",
    "                    break\n",
    "    if len(list_of_stocks) == 10:\n",
    "        return list_of_stocks"
   ]
  },
  {
   "cell_type": "code",
   "execution_count": 17,
   "metadata": {
    "collapsed": false
   },
   "outputs": [
    {
     "data": {
      "image/png": "[encoded data removed]",
      "text/plain": [
       "<matplotlib.figure.Figure at 0x126712668>"
      ]
     },
     "metadata": {},
     "output_type": "display_data"
    }
   ],
   "source": [
    "list_of_stocks = np.array(test(1837,100))\n",
    "\n",
    "import matplotlib.pyplot as plt\n",
    "%matplotlib inline\n",
    "x = np.arange(2000)\n",
    "y = np.arange(2000)\n",
    "x, y = np.meshgrid(x, y)\n",
    "\n",
    "intensity = corr_matrix.copy()[list_of_stocks.flatten(),:][:,list_of_stocks.flatten()]\n",
    "plt.pcolormesh(x, y, intensity)\n",
    "plt.colorbar() \n",
    "plt.show()"
   ]
  },
  {
   "cell_type": "code",
   "execution_count": 206,
   "metadata": {
    "collapsed": false
   },
   "outputs": [
    {
     "data": {
      "text/plain": [
       "1324"
      ]
     },
     "execution_count": 206,
     "metadata": {},
     "output_type": "execute_result"
    }
   ],
   "source": [
    "a = set()\n",
    "for i in range(10):\n",
    "    a.update(set(list_of_stocks[i]))\n",
    "len(a) #this shows that there is no dupulicated element"
   ]
  },
  {
   "cell_type": "code",
   "execution_count": 14,
   "metadata": {
    "collapsed": false
   },
   "outputs": [
    {
     "data": {
      "text/plain": [
       "473.32726544475793"
      ]
     },
     "execution_count": 14,
     "metadata": {},
     "output_type": "execute_result"
    }
   ],
   "source": [
    "corr_matrix[0][np.flipud(corr_matrix[0].argsort())[200:]].sum()"
   ]
  },
  {
   "cell_type": "code",
   "execution_count": 39,
   "metadata": {
    "collapsed": false
   },
   "outputs": [
    {
     "data": {
      "text/plain": [
       "[1.140471305847784,\n",
       " 0.57890874883237042,\n",
       " 0.57533437928560649,\n",
       " 0.46108335048384458,\n",
       " 0.44944423952313117,\n",
       " 0.41342569109555555,\n",
       " 0.41188160326205575,\n",
       " 0.40118910429369076,\n",
       " 0.40117443726769297,\n",
       " 0.39302793288703802,\n",
       " 0.39066351895804274,\n",
       " 0.39041856445470891,\n",
       " 0.38875500687102027,\n",
       " 0.38024269362212759,\n",
       " 0.37686405553608754,\n",
       " 0.37646019207401854,\n",
       " 0.37376193636737026,\n",
       " 0.36888962088116856,\n",
       " 0.36267007451884481,\n",
       " 0.35972657907473421,\n",
       " 0.35823125982223741,\n",
       " 0.35822423888198279,\n",
       " 0.35682310935012163,\n",
       " 0.35440956523451272,\n",
       " 0.35310460873730365,\n",
       " 0.35247318035467279,\n",
       " 0.34600144102277358,\n",
       " 0.34572768671934179,\n",
       " 0.34296601697013457,\n",
       " 0.33930690418036796,\n",
       " 0.33819937760885205,\n",
       " 0.33591444015480854,\n",
       " 0.32693462457848071,\n",
       " 0.32405449185974966,\n",
       " 0.31951207080573429,\n",
       " 0.31547338392657848,\n",
       " 0.31345487191316174,\n",
       " 0.31275654153226784,\n",
       " 0.31039085116607951,\n",
       " 0.31002785403292382,\n",
       " 0.30934321631161521,\n",
       " 0.30885387304815459,\n",
       " 0.30525921167527692,\n",
       " 0.30518112630538335,\n",
       " 0.30429512039028705,\n",
       " 0.30011633659817771,\n",
       " 0.29788922587137062,\n",
       " 0.29749579882884225,\n",
       " 0.29365206609238892,\n",
       " 0.2919456647277559,\n",
       " 0.29184830299803649,\n",
       " 0.2902233922483759,\n",
       " 0.28938407506479097,\n",
       " 0.28272777747632533,\n",
       " 0.28171537303955185,\n",
       " 0.28073376551871509,\n",
       " 0.27783813552854264,\n",
       " 0.27625547466726769,\n",
       " 0.27593677630797236,\n",
       " 0.27375541999786618,\n",
       " 0.2730776985857119,\n",
       " 0.27281204558776945,\n",
       " 0.27068801600162157,\n",
       " 0.26997921142124032,\n",
       " 0.26475406329152606,\n",
       " 0.26094527698392073,\n",
       " 0.25920716744730843,\n",
       " 0.25476999552990848,\n",
       " 0.25155320708917889,\n",
       " 0.25080428403368116,\n",
       " 0.25066618686658731,\n",
       " 0.24803595271206766,\n",
       " 0.24797118364073867,\n",
       " 0.24645222005128267,\n",
       " 0.24580493983100679,\n",
       " 0.24569288660772481,\n",
       " 0.24502577455135063,\n",
       " 0.24241555636675405,\n",
       " 0.24150262706225978,\n",
       " 0.24025502735036147,\n",
       " 0.24012419305518706,\n",
       " 0.2384137326362733,\n",
       " 0.23776185340994427,\n",
       " 0.23774227971794404,\n",
       " 0.23704532111628951,\n",
       " 0.23634763855718155,\n",
       " 0.23611489428880844,\n",
       " 0.23544170126109409,\n",
       " 0.23489109030462285,\n",
       " 0.23484514187585051,\n",
       " 0.23436949081742742,\n",
       " 0.23392202255115296,\n",
       " 0.23383078659578108,\n",
       " 0.23251663349039958,\n",
       " 0.23251098781110371,\n",
       " 0.23202480787928814,\n",
       " 0.23129766160888279,\n",
       " 0.23038433484361756,\n",
       " 0.23012564846760886,\n",
       " 0.23011602529271541,\n",
       " 0.22977479917184732,\n",
       " 0.22896886857306387,\n",
       " 0.22846350856820966,\n",
       " 0.22752503649464034,\n",
       " 0.22719011969556216,\n",
       " 0.22706710279843023,\n",
       " 0.22702650996221987,\n",
       " 0.22695625107429385,\n",
       " 0.22682486862208343,\n",
       " 0.22670117989951521,\n",
       " 0.22649637290181784,\n",
       " 0.22568887204720184,\n",
       " 0.22550785094076187,\n",
       " 0.22531777516305662,\n",
       " 0.22530599864862066,\n",
       " 0.22518028771994647,\n",
       " 0.22516057166606462,\n",
       " 0.22503646258297302,\n",
       " 0.22451506524731338,\n",
       " 0.22427310336096451,\n",
       " 0.22385394631099781,\n",
       " 0.22380951684126146,\n",
       " 0.22354147510338696,\n",
       " 0.22309404656018331,\n",
       " 0.22290189614105088,\n",
       " 0.22279641058293098,\n",
       " 0.22214117791067789,\n",
       " 0.22155379104371234,\n",
       " 0.22153772132109686,\n",
       " 0.22150182090766396,\n",
       " 0.2207693346313124,\n",
       " 0.22059476440516512,\n",
       " 0.22029133822809097,\n",
       " 0.22016532359247507,\n",
       " 0.21992406899360742,\n",
       " 0.21992345270752833,\n",
       " 0.21968591775915686,\n",
       " 0.21961537070397974,\n",
       " 0.21930050882800581,\n",
       " 0.21884882509513329,\n",
       " 0.21881669997591374,\n",
       " 0.21878256991482634,\n",
       " 0.21861348896480481,\n",
       " 0.21854828543389485,\n",
       " 0.21848601648186872,\n",
       " 0.21841201841629068,\n",
       " 0.21833985739632866,\n",
       " 0.2180880630515844,\n",
       " 0.21763156029936517,\n",
       " 0.21747884226702477,\n",
       " 0.21725830815659844,\n",
       " 0.21716555151704339,\n",
       " 0.2169938706746711,\n",
       " 0.21692465935632305,\n",
       " 0.21650941041892124,\n",
       " 0.21609949810465331,\n",
       " 0.2160332931740814,\n",
       " 0.21515408788515514,\n",
       " 0.21513840275463245,\n",
       " 0.21499709439363091,\n",
       " 0.21494136918442575,\n",
       " 0.21467333406389472,\n",
       " 0.21445987180022727,\n",
       " 0.21443372505201158,\n",
       " 0.21439274687329607,\n",
       " 0.21424155410931825,\n",
       " 0.21386647667060465,\n",
       " 0.21350873719814517,\n",
       " 0.2133747455198543,\n",
       " 0.21332600778435779,\n",
       " 0.21329976228774156,\n",
       " 0.21312559455139349,\n",
       " 0.21309345076630068,\n",
       " 0.21304181498967423,\n",
       " 0.21300031522837615,\n",
       " 0.21283479497827404,\n",
       " 0.21277253710936866,\n",
       " 0.21267419749431751,\n",
       " 0.21259620707683161,\n",
       " 0.21256707882799894,\n",
       " 0.21235769820851622,\n",
       " 0.21227447233494676,\n",
       " 0.21223125699220016,\n",
       " 0.21221112662486463,\n",
       " 0.21219903465819964,\n",
       " 0.21207985770457755,\n",
       " 0.21176785503590026,\n",
       " 0.21174865851285712,\n",
       " 0.21157715912624589,\n",
       " 0.21154773529259369,\n",
       " 0.21152539912369292,\n",
       " 0.21149175302646681,\n",
       " 0.21141454955788141,\n",
       " 0.21123967601096025,\n",
       " 0.21110515500566859,\n",
       " 0.21109719403667981,\n",
       " 0.21108314190075092,\n",
       " 0.21093086141105782,\n",
       " 0.21085113327862548,\n",
       " 0.21078799915262383,\n",
       " 0.21071852289020968,\n",
       " 0.21068543523987329,\n",
       " 0.21048224275289837,\n",
       " 0.21048060452380241,\n",
       " 0.21013790690043835,\n",
       " 0.210004993026842,\n",
       " 0.20976065051129539,\n",
       " 0.20959438715647286,\n",
       " 0.20919034623704039,\n",
       " 0.20896582608740844,\n",
       " 0.20889433827070542,\n",
       " 0.20863189966269571,\n",
       " 0.20847562534482375,\n",
       " 0.20825949015004513,\n",
       " 0.20798241560078917,\n",
       " 0.20790741110026989,\n",
       " 0.20786296542113991,\n",
       " 0.20779958207936081,\n",
       " 0.20772435218495194,\n",
       " 0.20767124591895098,\n",
       " 0.20766418866039676,\n",
       " 0.20761823340170896,\n",
       " 0.20746213310793987,\n",
       " 0.20745125515516744,\n",
       " 0.20740585855884483,\n",
       " 0.20738596263093276,\n",
       " 0.20717216985990741,\n",
       " 0.20708392752730578,\n",
       " 0.20706617187395032,\n",
       " 0.20705950252515259,\n",
       " 0.20692056515114154,\n",
       " 0.2068776778729422,\n",
       " 0.20680791053489578,\n",
       " 0.20663322306194767,\n",
       " 0.20651382604891275,\n",
       " 0.2062792393605466,\n",
       " 0.20614500297009924,\n",
       " 0.2060309213369296,\n",
       " 0.20601052168854436,\n",
       " 0.20582855968539465,\n",
       " 0.20582412777508299,\n",
       " 0.20575688008305301,\n",
       " 0.20574473543739677,\n",
       " 0.20572922494816678,\n",
       " 0.20572345256628952,\n",
       " 0.20571629773913744,\n",
       " 0.20570812756036877,\n",
       " 0.20567373461533617,\n",
       " 0.20508758328383472,\n",
       " 0.2049808535331035,\n",
       " 0.20497500063646709,\n",
       " 0.20496875145868074,\n",
       " 0.20490199438732781,\n",
       " 0.2047502389998952,\n",
       " 0.20441918767049561,\n",
       " 0.20424336725584025,\n",
       " 0.20420447783696064,\n",
       " 0.20398051023724767,\n",
       " 0.20390102322253575,\n",
       " 0.20379963967977865,\n",
       " 0.20373953224875752,\n",
       " 0.20373418370932761,\n",
       " 0.20363847946663147,\n",
       " 0.20354611504950465,\n",
       " 0.20347321557238393,\n",
       " 0.20345593333834552,\n",
       " 0.20345539848247782,\n",
       " 0.20341213409185258,\n",
       " 0.20329814611401661,\n",
       " 0.20326042820009227,\n",
       " 0.20315601316975931,\n",
       " 0.20310703138723316,\n",
       " 0.20305458846471122,\n",
       " 0.20283874810885666,\n",
       " 0.20279621679377041,\n",
       " 0.20278931688085094,\n",
       " 0.20272788050170762,\n",
       " 0.20271682290785328,\n",
       " 0.20271116280741314,\n",
       " 0.20268201428281077,\n",
       " 0.20258395258943829,\n",
       " 0.20256749309279412,\n",
       " 0.20231295071765443,\n",
       " 0.20217970915364639,\n",
       " 0.2021182472166517,\n",
       " 0.20208717623019687,\n",
       " 0.20205436958792317,\n",
       " 0.2020284888159011,\n",
       " 0.20195617309551733,\n",
       " 0.2017365553209326,\n",
       " 0.2016840712264909,\n",
       " 0.20165443320558976,\n",
       " 0.20165279845157055,\n",
       " 0.20157770862800004,\n",
       " 0.20147174502191501,\n",
       " 0.20146792024698482,\n",
       " 0.20143228669141997,\n",
       " 0.20133100720100991,\n",
       " 0.20132540771050145,\n",
       " 0.20127608968523603,\n",
       " 0.20124567632941562,\n",
       " 0.20118204624022315,\n",
       " 0.20093940068261812,\n",
       " 0.20084465013734401,\n",
       " 0.20080846300379232,\n",
       " 0.20064860246371732,\n",
       " 0.20059662145255336,\n",
       " 0.20058221052028158,\n",
       " 0.20056218903809225,\n",
       " 0.20043215170252926,\n",
       " 0.20040514349000124,\n",
       " 0.20038719618894432,\n",
       " 0.2002943207396323,\n",
       " 0.20028593083833005,\n",
       " 0.20028259165724965,\n",
       " 0.20013985150938091,\n",
       " 0.20011685897729864,\n",
       " 0.20005966203909742,\n",
       " 0.20003399990793622,\n",
       " 0.20001385343114217,\n",
       " 0.19998496765655197,\n",
       " 0.19998167614047072,\n",
       " 0.19989735431100847,\n",
       " 0.19963224099252433,\n",
       " 0.19958513150247706,\n",
       " 0.1995403454803566,\n",
       " 0.19949313880462466,\n",
       " 0.19946858077258145,\n",
       " 0.19937530804808726,\n",
       " 0.19933714034943262,\n",
       " 0.1993020130092954,\n",
       " 0.19928001114485228,\n",
       " 0.19922944492616693,\n",
       " 0.1992169515628226,\n",
       " 0.19920219648668017,\n",
       " 0.19912820074011028,\n",
       " 0.19907289376183243,\n",
       " 0.19905141601945903,\n",
       " 0.19892023279296459,\n",
       " 0.19886043257316291,\n",
       " 0.19884616481677606,\n",
       " 0.19882730189892078,\n",
       " 0.1988168080286665,\n",
       " 0.19873720892961266,\n",
       " 0.19860745601311328,\n",
       " 0.19854819219323824,\n",
       " 0.19848698240604215,\n",
       " 0.19842852397597532,\n",
       " 0.19834877666115083,\n",
       " 0.19827010969561384,\n",
       " 0.19816575587366181,\n",
       " 0.19810965240538639,\n",
       " 0.1980196223483715,\n",
       " 0.1979450361477374,\n",
       " 0.19788639504061098,\n",
       " 0.19776895054606572,\n",
       " 0.19757585881044346,\n",
       " 0.19748804939006606,\n",
       " 0.19742999005508008,\n",
       " 0.19726978095295192,\n",
       " 0.19726534400498846,\n",
       " 0.19714535111086365,\n",
       " 0.197074846896583,\n",
       " 0.19689229889102197,\n",
       " 0.19689160391029498,\n",
       " 0.19689081580207063,\n",
       " 0.19683869609126647,\n",
       " 0.19682022321109102,\n",
       " 0.19677190322654134,\n",
       " 0.19672818943362982,\n",
       " 0.19666140855598635,\n",
       " 0.19661668517859915,\n",
       " 0.19659075759792558,\n",
       " 0.19646196189786277,\n",
       " 0.19639761247679882,\n",
       " 0.196289988730909,\n",
       " 0.19626772437302145,\n",
       " 0.19623924023721895,\n",
       " 0.19618037063477656,\n",
       " 0.19606884768513508,\n",
       " 0.19606740746827123,\n",
       " 0.19606484616163219,\n",
       " 0.19603283650055597,\n",
       " 0.19597304994257997,\n",
       " 0.19593634453754319,\n",
       " 0.19591149467916175,\n",
       " 0.19582162637868861,\n",
       " 0.19576102888053071,\n",
       " 0.19575450943868508,\n",
       " 0.19573088940069236,\n",
       " 0.19572222614894322,\n",
       " 0.19566034249477976,\n",
       " 0.19561669838737081,\n",
       " 0.19555984650545993,\n",
       " 0.1954297150160153,\n",
       " 0.19534888081131235,\n",
       " 0.19526734648391075,\n",
       " 0.19517668038316532,\n",
       " 0.19508920884597261,\n",
       " 0.19499664534684391,\n",
       " 0.19495090092072742,\n",
       " 0.19493808202464966,\n",
       " 0.19486818352828361,\n",
       " 0.19485247362878363,\n",
       " 0.19483124832623319,\n",
       " 0.1948208190080773,\n",
       " 0.19481968495451468,\n",
       " 0.19481510239037159,\n",
       " 0.19471569510570128,\n",
       " 0.19465761924492042,\n",
       " 0.19458878491445708,\n",
       " 0.19456306832678297,\n",
       " 0.19455118765396384,\n",
       " 0.19454982415499886,\n",
       " 0.19454509728998851,\n",
       " 0.19446728289342899,\n",
       " 0.19446240916463192,\n",
       " 0.19442090847316776,\n",
       " 0.19428531205971991,\n",
       " 0.19425574154949388,\n",
       " 0.19424370749830761,\n",
       " 0.19411744761821564,\n",
       " 0.19411641870539803,\n",
       " 0.19409061064211575,\n",
       " 0.19398089509638261,\n",
       " 0.19386272506381338,\n",
       " 0.19380767154251799,\n",
       " 0.19376112637331105,\n",
       " 0.19367485448770858,\n",
       " 0.19365207243727414,\n",
       " 0.19360588717059282,\n",
       " 0.19355164654212831,\n",
       " 0.19354187822652341,\n",
       " 0.19354111181291475,\n",
       " 0.19353808389278521,\n",
       " 0.19352261496300255,\n",
       " 0.19351102783507559,\n",
       " 0.19345340528296207,\n",
       " 0.19343939289035031,\n",
       " 0.19343792530639847,\n",
       " 0.19336223030611405,\n",
       " 0.19329949800298774,\n",
       " 0.19313038422601489,\n",
       " 0.19308662747885211,\n",
       " 0.19308026133491013,\n",
       " 0.19300038828619229,\n",
       " 0.19297696311028048,\n",
       " 0.19297449312956014,\n",
       " 0.19295123461901659,\n",
       " 0.19294976210156872,\n",
       " 0.19293926684393178,\n",
       " 0.19287230887239273,\n",
       " 0.19284544899789371,\n",
       " 0.19283985593842609,\n",
       " 0.19283514213168526,\n",
       " 0.19279388373105205,\n",
       " 0.19278788506927069,\n",
       " 0.19273715811715658,\n",
       " 0.19260781295190516,\n",
       " 0.19252955574409655,\n",
       " 0.1924868951307058,\n",
       " 0.19242156230076027,\n",
       " 0.19238895868817793,\n",
       " 0.19232646749295199,\n",
       " 0.19231248655130134,\n",
       " 0.19226394842231601,\n",
       " 0.1922590500086051,\n",
       " 0.19224513620194522,\n",
       " 0.19223712898181378,\n",
       " 0.19219678109009128,\n",
       " 0.19213629037654512,\n",
       " 0.19210286563144582,\n",
       " 0.19209586151105668,\n",
       " 0.1919969240227985,\n",
       " 0.19192226508195745,\n",
       " 0.1918876482540976,\n",
       " 0.19186022457412713,\n",
       " 0.19185050941315199,\n",
       " 0.19180269651909668,\n",
       " 0.19178224871919791,\n",
       " 0.19171349976755467,\n",
       " 0.19168636767287059,\n",
       " 0.19158744170815892,\n",
       " 0.19150714336856781,\n",
       " 0.19150501350526022,\n",
       " 0.19144053047224147,\n",
       " 0.19135786957604423,\n",
       " 0.19134271170292372,\n",
       " 0.19128234898738525,\n",
       " 0.19122967274177902,\n",
       " 0.1912223436291943,\n",
       " 0.19120349531855846,\n",
       " 0.19119706953659568,\n",
       " 0.19119597006621569,\n",
       " 0.19102628515704773,\n",
       " 0.19101625825223686,\n",
       " 0.19093503023777872,\n",
       " 0.19091885068406014,\n",
       " 0.19088200723788576,\n",
       " 0.19085266747581833,\n",
       " 0.19075117205953296,\n",
       " 0.19062779040228178,\n",
       " 0.19062676005996848,\n",
       " 0.19053232718776056,\n",
       " 0.19039695510125257,\n",
       " 0.19037612238008683,\n",
       " 0.19035129000688059,\n",
       " 0.19034394881307481,\n",
       " 0.19011941944730218,\n",
       " 0.19011583754096081,\n",
       " 0.19009750201239695,\n",
       " 0.19008211027673153,\n",
       " 0.19006704895871165,\n",
       " 0.19002419322039829,\n",
       " 0.18988503263518,\n",
       " 0.18987415254212189,\n",
       " 0.1898692969806956,\n",
       " 0.18978394631106574,\n",
       " 0.18978277694228504,\n",
       " 0.18970090474922097,\n",
       " 0.18963787159637077,\n",
       " 0.18951546626340277,\n",
       " 0.18942744897941094,\n",
       " 0.18941603748525249,\n",
       " 0.18932456177207616,\n",
       " 0.1892723757799446,\n",
       " 0.18923269647379282,\n",
       " 0.18918918609308552,\n",
       " 0.18915538383187644,\n",
       " 0.18914692290346002,\n",
       " 0.18913638472547215,\n",
       " 0.1891330596580863,\n",
       " 0.18910130367052638,\n",
       " 0.18910091621676958,\n",
       " 0.18902642554274901,\n",
       " 0.18901376749014545,\n",
       " 0.18896719102351081,\n",
       " 0.18894911337768716,\n",
       " 0.18883878431256473,\n",
       " 0.1887402521367981,\n",
       " 0.18873170228853278,\n",
       " 0.18872244551782913,\n",
       " 0.18865577920438542,\n",
       " 0.18859317305362494,\n",
       " 0.18846785426208582,\n",
       " 0.18844377297122686,\n",
       " 0.18843300878374866,\n",
       " 0.18842324759947204,\n",
       " 0.18839755471941241,\n",
       " 0.18837255619417531,\n",
       " 0.18835653770496527,\n",
       " 0.18822994882650204,\n",
       " 0.18822095165436195,\n",
       " 0.1881945775643683,\n",
       " 0.18817814964052071,\n",
       " 0.18814985846057783,\n",
       " 0.18810398375183826,\n",
       " 0.18808159555597248,\n",
       " 0.18807056144342066,\n",
       " 0.18805868182298252,\n",
       " 0.18797367865953604,\n",
       " 0.18791751815170069,\n",
       " 0.18775156767136755,\n",
       " 0.18765318781386447,\n",
       " 0.18764804542591615,\n",
       " 0.18759017353526608,\n",
       " 0.18750006452987261,\n",
       " 0.1874466253307368,\n",
       " 0.18743655512847679,\n",
       " 0.18742781563527591,\n",
       " 0.18739719682207581,\n",
       " 0.18738163395526392,\n",
       " 0.18734613913888337,\n",
       " 0.18734089728451364,\n",
       " 0.18731479783990618,\n",
       " 0.18722463519913152,\n",
       " 0.18714685221339417,\n",
       " 0.18713047449802545,\n",
       " 0.18708614114919631,\n",
       " 0.18701419186098825,\n",
       " 0.18701127559833788,\n",
       " 0.18699744103236718,\n",
       " 0.18696617362575466,\n",
       " 0.18695303522397352,\n",
       " 0.1869383441760952,\n",
       " 0.18693230842092168,\n",
       " 0.18676804220230839,\n",
       " 0.18676606153524733,\n",
       " 0.18672178510645041,\n",
       " 0.18670384391412478,\n",
       " 0.18664656787196862,\n",
       " 0.18657654907042442,\n",
       " 0.18657029554910365,\n",
       " 0.18654984537455174,\n",
       " 0.18651252458300693,\n",
       " 0.18650662813099955,\n",
       " 0.18648354417672969,\n",
       " 0.18645857969652258,\n",
       " 0.18643417566364445,\n",
       " 0.18638359629161441,\n",
       " 0.18635206107717697,\n",
       " 0.18633326118840327,\n",
       " 0.18626415671857768,\n",
       " 0.18621694514974346,\n",
       " 0.18608385376458628,\n",
       " 0.18607298621128826,\n",
       " 0.18604758994897627,\n",
       " 0.18595829448314524,\n",
       " 0.18594729506138122,\n",
       " 0.18587051314278932,\n",
       " 0.1858071865387301,\n",
       " 0.18578101094972485,\n",
       " 0.18577163834811516,\n",
       " 0.18573941829857832,\n",
       " 0.1857265864273368,\n",
       " 0.18563385400707555,\n",
       " 0.18558795335256034,\n",
       " 0.18556989370603127,\n",
       " 0.18551604421292059,\n",
       " 0.18544938657434479,\n",
       " 0.18532312237172521,\n",
       " 0.18528470987103893,\n",
       " 0.1852303064111476,\n",
       " 0.18522884974160139,\n",
       " 0.18497740628397041,\n",
       " 0.18497423108245734,\n",
       " 0.18494131493223187,\n",
       " 0.18493598142168657,\n",
       " 0.18488861630440664,\n",
       " 0.18485635580673151,\n",
       " 0.18484356729547699,\n",
       " 0.18482811898216345,\n",
       " 0.18480435668384315,\n",
       " 0.18475111580952039,\n",
       " 0.18474615360429927,\n",
       " 0.18469470403507918,\n",
       " 0.18467275464472271,\n",
       " 0.18465444522218386,\n",
       " 0.1846220749093839,\n",
       " 0.1845417318607275,\n",
       " 0.18451797063602512,\n",
       " 0.18450517085031481,\n",
       " 0.18447947500738718,\n",
       " 0.18437812545948745,\n",
       " 0.18434543860589331,\n",
       " 0.18430458331103652,\n",
       " 0.18430064328685114,\n",
       " 0.18422053719108408,\n",
       " 0.18421920426739175,\n",
       " 0.18409208551304068,\n",
       " 0.18406298465627405,\n",
       " 0.18404317914294002,\n",
       " 0.18400712053917714,\n",
       " 0.18397322582835685,\n",
       " 0.1839168550322294,\n",
       " 0.18388175489023334,\n",
       " 0.18387943193479248,\n",
       " 0.18385721336278116,\n",
       " 0.18384432885774574,\n",
       " 0.18381173535395254,\n",
       " 0.1838037615905678,\n",
       " 0.18379759355761086,\n",
       " 0.18378672221690362,\n",
       " 0.18371992596190745,\n",
       " 0.18369679441188524,\n",
       " 0.18367587050173559,\n",
       " 0.18364956466493501,\n",
       " 0.18363767023126121,\n",
       " 0.18363623435702975,\n",
       " 0.1834855799142916,\n",
       " 0.18347521400467276,\n",
       " 0.18342312695449989,\n",
       " 0.18340057204125965,\n",
       " 0.18338884878643491,\n",
       " 0.18336951022714432,\n",
       " 0.18336651235752616,\n",
       " 0.18332247751185685,\n",
       " 0.18332045160295604,\n",
       " 0.18324723017873418,\n",
       " 0.18323421493368336,\n",
       " 0.18321088173296599,\n",
       " 0.18318220725404127,\n",
       " 0.18317791281860205,\n",
       " 0.18317167715838756,\n",
       " 0.18313302789569275,\n",
       " 0.18310442725972889,\n",
       " 0.18310179254204739,\n",
       " 0.18301017093794916,\n",
       " 0.18298183544803673,\n",
       " 0.18298119334883528,\n",
       " 0.18297533096659727,\n",
       " 0.18293856352421164,\n",
       " 0.18289731770579809,\n",
       " 0.18287126498859432,\n",
       " 0.18279467091278806,\n",
       " 0.18274502817601015,\n",
       " 0.1827138447737118,\n",
       " 0.18269542677250614,\n",
       " 0.18268742679159822,\n",
       " 0.18268632649027958,\n",
       " 0.18267962246430011,\n",
       " 0.18266643494330062,\n",
       " 0.18265022383157778,\n",
       " 0.18263305620740836,\n",
       " 0.18260445855571733,\n",
       " 0.18255173419640575,\n",
       " 0.1825212261334983,\n",
       " 0.18251714555634999,\n",
       " 0.1824103130656371,\n",
       " 0.18233624886604283,\n",
       " 0.18229666633982441,\n",
       " 0.18224723592986708,\n",
       " 0.18223680337530745,\n",
       " 0.18222767281342411,\n",
       " 0.18209952990915881,\n",
       " 0.18208163048452827,\n",
       " 0.18207890162444099,\n",
       " 0.18202309055755367,\n",
       " 0.18194697356817327,\n",
       " 0.18194346327426847,\n",
       " 0.18192065424735721,\n",
       " 0.18189096082406409,\n",
       " 0.18179691477608967,\n",
       " 0.1817845816313331,\n",
       " 0.18171910324794577,\n",
       " 0.18171105932163553,\n",
       " 0.18167797910584815,\n",
       " 0.18164556051998224,\n",
       " 0.18164205778899345,\n",
       " 0.18161414064092044,\n",
       " 0.18158082550174112,\n",
       " 0.18150177369609649,\n",
       " 0.18146115992351064,\n",
       " 0.18145167376238713,\n",
       " 0.18142311476350947,\n",
       " 0.18141274799540963,\n",
       " 0.18136604789285898,\n",
       " 0.18134606941365639,\n",
       " 0.1813382658700437,\n",
       " 0.18128678362848366,\n",
       " 0.18128497566070031,\n",
       " 0.18128262063871947,\n",
       " 0.18127980656312634,\n",
       " 0.18125495650261039,\n",
       " 0.18121811255437106,\n",
       " 0.18121344291441382,\n",
       " 0.18120406959339999,\n",
       " 0.18118011766685369,\n",
       " 0.181101853310942,\n",
       " 0.18105351262423805,\n",
       " 0.18100864855010351,\n",
       " 0.18100664281053006,\n",
       " 0.18098656856801193,\n",
       " 0.18098444227572785,\n",
       " 0.1809812518562772,\n",
       " 0.18096390739629292,\n",
       " 0.18095958696297562,\n",
       " 0.18086935289607947,\n",
       " 0.18080547633595612,\n",
       " 0.18077079953093006,\n",
       " 0.18075677243604871,\n",
       " 0.18073644527675775,\n",
       " 0.18069507465466736,\n",
       " 0.18068598019338522,\n",
       " 0.18068381418158727,\n",
       " 0.18059714152331333,\n",
       " 0.18057283024113574,\n",
       " 0.18056705417952007,\n",
       " 0.18053454852520406,\n",
       " 0.18051506805775053,\n",
       " 0.18050867320831007,\n",
       " 0.18049456978997808,\n",
       " 0.18048484698599723,\n",
       " 0.18047582311753307,\n",
       " 0.18047461460485575,\n",
       " 0.18046047190541906,\n",
       " 0.1804594759575168,\n",
       " 0.18042635675804261,\n",
       " 0.18041644864146866,\n",
       " 0.18040875032227743,\n",
       " 0.18039974844092635,\n",
       " 0.18035319681120213,\n",
       " 0.18031940693348023,\n",
       " 0.18031212265196453,\n",
       " 0.18028371833163767,\n",
       " 0.1802581288941669,\n",
       " 0.18024968740135844,\n",
       " 0.18023639359147514,\n",
       " 0.18022330072919251,\n",
       " 0.18019909068533624,\n",
       " 0.180139008010375,\n",
       " 0.1801326951887596,\n",
       " 0.18006577844084992,\n",
       " 0.1800159175912654,\n",
       " 0.17998837566184075,\n",
       " 0.17998493738819352,\n",
       " 0.17996644339415474,\n",
       " 0.1799611610388456,\n",
       " 0.1799464395232947,\n",
       " 0.17990595157286005,\n",
       " 0.17987627671164275,\n",
       " 0.17986693998087855,\n",
       " 0.17983639283906702,\n",
       " 0.17979594487962261,\n",
       " 0.17979559442167653,\n",
       " 0.1797149725176066,\n",
       " 0.1796990943467989,\n",
       " 0.17969343509917785,\n",
       " 0.17968601361508874,\n",
       " 0.17967290938439689,\n",
       " 0.1796370044315117,\n",
       " 0.17962355815613673,\n",
       " 0.17961309055226002,\n",
       " 0.17960157186609779,\n",
       " 0.17960144397572297,\n",
       " 0.17957349909487547,\n",
       " 0.17953932273537612,\n",
       " 0.17953455133531973,\n",
       " 0.17953345764890577,\n",
       " 0.17952976717972297,\n",
       " 0.17951574964116795,\n",
       " 0.17948907553925778,\n",
       " 0.17948200435331349,\n",
       " 0.17942927618293292,\n",
       " 0.17941934009727456,\n",
       " 0.17940393386633083,\n",
       " 0.17939805265522291,\n",
       " 0.17938331547902964,\n",
       " 0.17938023754905338,\n",
       " 0.1793737019855704,\n",
       " 0.17932567035360786,\n",
       " 0.17932299045399033,\n",
       " 0.17931948932024797,\n",
       " 0.17931474381589108,\n",
       " 0.1793101803383321,\n",
       " 0.17930494716781173,\n",
       " 0.17928867386313291,\n",
       " 0.17927563573414393,\n",
       " 0.17927279387227607,\n",
       " 0.17927134768367212,\n",
       " 0.17923036191908706,\n",
       " 0.17922009334075684,\n",
       " 0.17918880055422351,\n",
       " 0.17912964137570811,\n",
       " 0.17905842444198442,\n",
       " 0.17904668538769911,\n",
       " 0.17904120925999945,\n",
       " 0.17903469327481289,\n",
       " 0.17902663485069947,\n",
       " 0.17901285889093582,\n",
       " 0.17900418839780993,\n",
       " 0.17898221255568655,\n",
       " 0.17897233704485146,\n",
       " 0.17895781855234502,\n",
       " 0.17888964632889587,\n",
       " 0.17886399296128894,\n",
       " 0.17884201100147895,\n",
       " 0.1788397814748604,\n",
       " 0.17882746684611253,\n",
       " 0.17881870125060684,\n",
       " 0.1788045229877385,\n",
       " 0.17879932323303757,\n",
       " 0.17878549088453283,\n",
       " 0.17878052189990337,\n",
       " 0.17873120881435486,\n",
       " 0.17871872921065074,\n",
       " 0.17868712892010899,\n",
       " 0.17868564682009216,\n",
       " 0.17868248517394617,\n",
       " 0.17866986086310199,\n",
       " 0.17866510113855605,\n",
       " 0.17866031032986632,\n",
       " 0.17865199499565473,\n",
       " 0.17860910727728274,\n",
       " 0.17859684098546422,\n",
       " 0.17858982684461713,\n",
       " 0.17857029146300221,\n",
       " 0.17854809202689489,\n",
       " 0.17853895427048366,\n",
       " 0.17851658548625707,\n",
       " 0.178482512442632,\n",
       " 0.17847833630947729,\n",
       " 0.17847530121066571,\n",
       " 0.17843371322488599,\n",
       " 0.17843196013046458,\n",
       " 0.17842507334364452,\n",
       " 0.17841613317362345,\n",
       " 0.17840140055798648,\n",
       " 0.17839573896100108,\n",
       " 0.17839353225200902,\n",
       " 0.17838543951155425,\n",
       " 0.17836301318018485,\n",
       " 0.17834286916794331,\n",
       " 0.17834118238064586,\n",
       " 0.17833927618801981,\n",
       " 0.17833745221381783,\n",
       " 0.17833231953760989,\n",
       " 0.17833024443414983,\n",
       " 0.17829378792700443,\n",
       " 0.17827770779677526,\n",
       " 0.17824534550312554,\n",
       " 0.17824465457994132,\n",
       " 0.17823707995012492,\n",
       " 0.17823704610158567,\n",
       " 0.17820184981859541,\n",
       " 0.17817948320477647,\n",
       " 0.17817396986910736,\n",
       " 0.17816615426532503,\n",
       " 0.17815556582728964,\n",
       " 0.17814112744923599,\n",
       " 0.17813997374742596,\n",
       " 0.17811872487453076,\n",
       " 0.17810481988109389,\n",
       " 0.1781038164463524,\n",
       " 0.17810058133181539,\n",
       " 0.17809047800866359,\n",
       " 0.17807551974439048,\n",
       " 0.17807519433386224,\n",
       " 0.17802675357510381,\n",
       " 0.17802176164834296,\n",
       " 0.17799649752316324,\n",
       " 0.17799326952564176,\n",
       " 0.17798294380919635,\n",
       " 0.17797224281435658,\n",
       " 0.17796048864064334,\n",
       " 0.17795890652522978,\n",
       " 0.17794800024022836,\n",
       " 0.17794475719996775,\n",
       " 0.17794080430629414,\n",
       " 0.17793603597237706,\n",
       " 0.1779137066580071,\n",
       " 0.17790320572007082,\n",
       " 0.17790075485330628,\n",
       " 0.17789823251733333,\n",
       " 0.17788196638935877,\n",
       " 0.1778784957808319,\n",
       " 0.17786498836395317,\n",
       " 0.17785744754788729,\n",
       " 0.17784154176884151,\n",
       " 0.17783825861515895,\n",
       " 0.17783693967910497,\n",
       " 0.17780175405436105,\n",
       " 0.17778671933578413,\n",
       " 0.17776562182432118,\n",
       " 0.17775288156573435,\n",
       " 0.17774070444012377,\n",
       " 0.17773627162419842,\n",
       " 0.17772544398067147,\n",
       " 0.17772520306923595,\n",
       " 0.17769695105509214,\n",
       " 0.17768867099592628,\n",
       " 0.1776886485539797,\n",
       " 0.17768066054431594,\n",
       " 0.17767373406307355,\n",
       " 0.17766510099504176,\n",
       " 0.17765875771680908,\n",
       " 0.17765684846387567,\n",
       " 0.17763265691981342,\n",
       " 0.17761475724940781,\n",
       " 0.17749446914221234,\n",
       " 0.17746178407346311,\n",
       " 0.17746033010804424,\n",
       " 0.17744866693821459,\n",
       " 0.17743139746870559,\n",
       " 0.17740744623208052,\n",
       " 0.17740500548198679,\n",
       " 0.1773774611687304,\n",
       " 0.17734771469710148,\n",
       " 0.17730444595607689,\n",
       " 0.1772939240223835,\n",
       " 0.17727759887487057,\n",
       " 0.17727375597039385,\n",
       " 0.17726548378940069,\n",
       " 0.17725698578680768,\n",
       " 0.17725204432638836,\n",
       " 0.17724383649815473,\n",
       " 0.17721654898846759,\n",
       " 0.17720536994331465,\n",
       " 0.17720273332251579,\n",
       " 0.17719934693270809,\n",
       " 0.17718852686927444,\n",
       " 0.17717072669455985,\n",
       " 0.177165253434552,\n",
       " 0.17715343361562461,\n",
       " 0.17714941783845017,\n",
       " 0.17714027988775838,\n",
       " 0.17713687491706182,\n",
       " 0.17709780154956137,\n",
       " 0.17709097890817196,\n",
       " 0.17708818421834494,\n",
       " 0.17708506432019769,\n",
       " 0.17707754793576513,\n",
       " 0.1770710619415565,\n",
       " 0.17704973282208453,\n",
       " 0.17704829750676829,\n",
       " 0.17701624272179109,\n",
       " 0.17700745991193612,\n",
       " 0.17698922061484917,\n",
       " 0.17697925394755981,\n",
       " 0.17693665605408651,\n",
       " ...]"
      ]
     },
     "execution_count": 39,
     "metadata": {},
     "output_type": "execute_result"
    }
   ],
   "source": [
    "sorted(corr_matrix_score, reverse=True)"
   ]
  },
  {
   "cell_type": "code",
   "execution_count": 76,
   "metadata": {
    "collapsed": false
   },
   "outputs": [],
   "source": [
    "eigenvalues, eigenvectors = np.linalg.eig(corr_matrix)"
   ]
  },
  {
   "cell_type": "code",
   "execution_count": 79,
   "metadata": {
    "collapsed": false
   },
   "outputs": [
    {
     "data": {
      "text/plain": [
       "array([], dtype=float64)"
      ]
     },
     "execution_count": 79,
     "metadata": {},
     "output_type": "execute_result"
    }
   ],
   "source": [
    "eigenvalues[eigenvalues<0]"
   ]
  },
  {
   "cell_type": "code",
   "execution_count": 11,
   "metadata": {
    "collapsed": true
   },
   "outputs": [],
   "source": [
    "#defining the functions for calculating TICS, CARS and the value to be minimized\n",
    "\n",
    "def Calc_IC(sub_group_of_stocks):\n",
    "    return np.corrcoef(df.loc[:,sub_group_of_stocks].T).sum()\n",
    "\n",
    "def Calc_TICS(list_of_stocks):\n",
    "    TICS = {}\n",
    "    for i in range(len(list_of_stocks)):\n",
    "        TICS[i]=(Calc_IC(list_of_stocks[i])) #here the number i is the group number\n",
    "    return sum(TICS.values())\n",
    "\n",
    "def Calc_CARS(list_of_stocks): \n",
    "    CARS_dict = {}\n",
    "    CARS_dict.update({'AR{}'.format(i): df[list_of_stocks[i]].mean(axis=1) for i in range(10)})\n",
    "\n",
    "    temp_list = []\n",
    "    for i in range(10):\n",
    "        temp_list.append(CARS_dict['AR{}'.format(i)])\n",
    "    \n",
    "    CARS = np.corrcoef(temp_list).sum()\n",
    "    return CARS\n",
    "\n",
    "def objective_function(list_of_stocks):\n",
    "    return Calc_CARS(list_of_stocks)/Calc_TICS(list_of_stocks)\n",
    "\n"
   ]
  },
  {
   "cell_type": "code",
   "execution_count": 81,
   "metadata": {
    "collapsed": false
   },
   "outputs": [],
   "source": [
    "def find_stock_group(list_of_stocks, stock_number):\n",
    "    for i in range(10):\n",
    "        if stock_number in list_of_stocks[i]:\n",
    "            return (stock_number, i)  #i is the group number \n",
    "        \n",
    "def find_stock_location(list_of_stocks, stock_number):\n",
    "    for i in range(10):\n",
    "        if stock_number in list_of_stocks[i]:\n",
    "            for j in range(200):\n",
    "                if stock_number == list_of_stocks[i,j]:\n",
    "                    return (i,j)  #i is the group number and j is the location within the group\n"
   ]
  },
  {
   "cell_type": "code",
   "execution_count": 82,
   "metadata": {
    "collapsed": true
   },
   "outputs": [],
   "source": [
    "#this part below is the list of functions used when the each group is formed\n",
    "\n",
    "#find_the_next_min function is used to find the next element within a group when the group is formed\n",
    "def find_the_next_min(group, reference_set):\n",
    "    index, min_ = 0, 9999  #initialization of the variables\n",
    "    for i in reference_set:\n",
    "        if i not in group:\n",
    "            intra_value = sum([corr_matrix[element,i] for element in group])\n",
    "            inter_value = (corr_matrix[i].sum() - 2*intra_value - 1)\n",
    "            value = abs(inter_value/intra_value)\n",
    "            if value < min_:\n",
    "                index, min_ = i, value\n",
    "    return (index, min_)\n",
    "\n",
    "#using the find_the_next_min function, group elements are added until its number reaches 200\n",
    "def add_element_to_group(group, reference_set):\n",
    "    while len(group) < 200:\n",
    "        group.append(find_the_next_min(group, reference_set)[0])\n",
    "\n",
    "#when one group is formed, the first element in the next group is found using find_the_next_max function\n",
    "def find_the_next_max(reference_set):\n",
    "    group_list = list(set(range(2000)) - reference_set)\n",
    "    index, max_ = 0, -9999\n",
    "    for i in reference_set:\n",
    "        intra_value = sum([corr_matrix[element,i] for element in group_list])\n",
    "        inter_value = (corr_matrix[i].sum() - 2*intra_value - 1)\n",
    "        value = abs(inter_value/intra_value)\n",
    "        if value > max_:\n",
    "            index, max_ = i, value\n",
    "    return (index, max_)"
   ]
  },
  {
   "cell_type": "code",
   "execution_count": 68,
   "metadata": {
    "collapsed": false
   },
   "outputs": [],
   "source": [
    "def find_partitions(reference_set):\n",
    "    for i in range(10):\n",
    "        add_element_to_group(eval('group_{}'.format(i)), reference_set)\n",
    "        reference_set = reference_set - set(eval('group_{}'.format(i)))\n",
    "        #print('group_{} has been made'.format(i))\n",
    "        i += 1\n",
    "        if i != 10:\n",
    "            eval('group_{}'.format(i)).append(find_the_next_max(reference_set)[0])\n",
    "\n",
    "    \n",
    "initial_param_result = []\n",
    "\n",
    "    \n",
    "def find_the_initial_parameter(num_of_repetition):\n",
    "    \n",
    "    initial_min = 0.000562\n",
    "    current_min = initial_min\n",
    "    \n",
    "    \n",
    "    for k in range(num_of_repetition):\n",
    "        \n",
    "        print(k, '-repetition has started')\n",
    "        #temp list of stocks before partitioning\n",
    "        list_of_stocks = np.arange(2000).reshape(10,200)\n",
    "        reference_set = set(list(range(1,2000)))\n",
    "        initial_stock_picked = np.random.choice(list(reference_set))\n",
    "\n",
    "        for i in range(10):  \n",
    "            temp = ''           \n",
    "            temp = 'group_'+str(i)+'=[]'\n",
    "            exec(temp)\n",
    "\n",
    "        group_0.append(initial_stock_picked)    \n",
    "\n",
    "        for i in range(10):\n",
    "            add_element_to_group(eval('group_{}'.format(i)), reference_set)\n",
    "            reference_set = reference_set - set(eval('group_{}'.format(i)))\n",
    "            i += 1\n",
    "            if i != 10:\n",
    "                eval('group_{}'.format(i)).append(find_the_next_max(reference_set)[0])    \n",
    "\n",
    "        for i in range(10):\n",
    "            list_of_stocks[i] = eval('group_{}'.format(i))\n",
    "\n",
    "        result = objective_function(list_of_stocks)\n",
    "        if  result < current_min:\n",
    "            current_min = result\n",
    "            print((initial_stock_picked, result))\n",
    "            initial_param_result.append((initial_stock_picked, result))\n",
    "            \n",
    "\n",
    "  "
   ]
  },
  {
   "cell_type": "code",
   "execution_count": 69,
   "metadata": {
    "collapsed": false
   },
   "outputs": [
    {
     "name": "stdout",
     "output_type": "stream",
     "text": [
      "0 -repetition has started\n"
     ]
    },
    {
     "name": "stderr",
     "output_type": "stream",
     "text": [
      "/Users/Sungwookhong/anaconda/lib/python3.6/site-packages/ipykernel/__main__.py:10: RuntimeWarning: divide by zero encountered in double_scalars\n"
     ]
    },
    {
     "name": "stdout",
     "output_type": "stream",
     "text": [
      "1 -repetition has started\n",
      "2 -repetition has started\n",
      "3 -repetition has started\n",
      "4 -repetition has started\n",
      "5 -repetition has started\n",
      "6 -repetition has started\n",
      "7 -repetition has started\n",
      "8 -repetition has started\n",
      "9 -repetition has started\n",
      "10 -repetition has started\n",
      "11 -repetition has started\n",
      "12 -repetition has started\n",
      "13 -repetition has started\n",
      "14 -repetition has started\n",
      "15 -repetition has started\n",
      "16 -repetition has started\n",
      "17 -repetition has started\n",
      "18 -repetition has started\n",
      "19 -repetition has started\n",
      "20 -repetition has started\n",
      "21 -repetition has started\n",
      "22 -repetition has started\n",
      "23 -repetition has started\n",
      "24 -repetition has started\n",
      "25 -repetition has started\n",
      "26 -repetition has started\n",
      "27 -repetition has started\n",
      "28 -repetition has started\n",
      "29 -repetition has started\n",
      "30 -repetition has started\n",
      "31 -repetition has started\n",
      "32 -repetition has started\n",
      "33 -repetition has started\n",
      "34 -repetition has started\n",
      "35 -repetition has started\n",
      "36 -repetition has started\n",
      "37 -repetition has started\n",
      "38 -repetition has started\n",
      "39 -repetition has started\n",
      "40 -repetition has started\n",
      "41 -repetition has started\n",
      "42 -repetition has started\n",
      "43 -repetition has started\n",
      "44 -repetition has started\n",
      "45 -repetition has started\n",
      "46 -repetition has started\n",
      "47 -repetition has started\n",
      "48 -repetition has started\n",
      "49 -repetition has started\n",
      "50 -repetition has started\n",
      "51 -repetition has started\n",
      "52 -repetition has started\n",
      "53 -repetition has started\n",
      "54 -repetition has started\n",
      "55 -repetition has started\n",
      "56 -repetition has started\n",
      "57 -repetition has started\n",
      "58 -repetition has started\n",
      "59 -repetition has started\n",
      "60 -repetition has started\n",
      "61 -repetition has started\n",
      "62 -repetition has started\n",
      "63 -repetition has started\n",
      "64 -repetition has started\n",
      "65 -repetition has started\n",
      "66 -repetition has started\n",
      "67 -repetition has started\n",
      "68 -repetition has started\n",
      "69 -repetition has started\n",
      "70 -repetition has started\n",
      "71 -repetition has started\n",
      "72 -repetition has started\n",
      "73 -repetition has started\n",
      "74 -repetition has started\n",
      "75 -repetition has started\n",
      "76 -repetition has started\n",
      "77 -repetition has started\n",
      "78 -repetition has started\n",
      "79 -repetition has started\n",
      "80 -repetition has started\n",
      "81 -repetition has started\n",
      "82 -repetition has started\n",
      "83 -repetition has started\n",
      "84 -repetition has started\n",
      "85 -repetition has started\n",
      "86 -repetition has started\n",
      "87 -repetition has started\n",
      "88 -repetition has started\n",
      "89 -repetition has started\n",
      "90 -repetition has started\n",
      "91 -repetition has started\n",
      "92 -repetition has started\n",
      "93 -repetition has started\n",
      "94 -repetition has started\n",
      "95 -repetition has started\n",
      "96 -repetition has started\n",
      "97 -repetition has started\n",
      "98 -repetition has started\n",
      "99 -repetition has started\n"
     ]
    }
   ],
   "source": [
    "find_the_initial_parameter(100)"
   ]
  },
  {
   "cell_type": "code",
   "execution_count": null,
   "metadata": {
    "collapsed": true
   },
   "outputs": [],
   "source": [
    "temp_list = np.arange(2000)"
   ]
  },
  {
   "cell_type": "code",
   "execution_count": 23,
   "metadata": {
    "collapsed": false
   },
   "outputs": [
    {
     "data": {
      "text/plain": [
       "array([ 7.54282309,  5.61856194,  5.69548588,  9.37406704,  6.39297563,\n",
       "        7.02680248,  9.25433509,  7.15698174,  6.49348565,  7.67428755])"
      ]
     },
     "execution_count": 23,
     "metadata": {},
     "output_type": "execute_result"
    }
   ],
   "source": [
    "#now I need the functions for optimization after the whole 10 groups are formed\n",
    "def intra_group_sum_corr_matrix(stock_list, group_number):\n",
    "    return np.sum(corr_matrix[stock_list[group_number], :][:, stock_list[group_number]])\n",
    "\n",
    "def inter_group_sum_corr_matrix(stock_list, group_number):\n",
    "    return np.sum(corr_matrix[stock_list[group_number], :])-intra_group_sum_corr_matrix(stock_list, group_number)\n",
    "\n",
    "initial_sum_intra = []\n",
    "initial_sum_inter = []\n",
    "\n",
    "def initialize_sum(list_of_stocks):\n",
    "    stock_list = list_of_stocks.copy()\n",
    "    for i in range(10):\n",
    "        initial_sum_intra.append(intra_group_sum_corr_matrix(stock_list, i))\n",
    "        initial_sum_inter.append(inter_group_sum_corr_matrix(stock_list, i))\n",
    "\n",
    "initialize_sum(list_of_stocks)\n",
    "initial_score = np.array(initial_sum_inter)/np.array(initial_sum_intra)\n",
    "#we want the small inter_sum and large intra_sum, meaning that the smaller value of the equation \n",
    "#above is preferred\n",
    "\n",
    "initial_score\n"
   ]
  },
  {
   "cell_type": "code",
   "execution_count": 56,
   "metadata": {
    "collapsed": false
   },
   "outputs": [
    {
     "data": {
      "text/plain": [
       "array([ 1.,  1.,  1.,  1.,  1.,  1.,  1.,  1.,  1.,  1.])"
      ]
     },
     "execution_count": 56,
     "metadata": {},
     "output_type": "execute_result"
    }
   ],
   "source": [
    "current_score"
   ]
  },
  {
   "cell_type": "code",
   "execution_count": 34,
   "metadata": {
    "collapsed": true
   },
   "outputs": [],
   "source": [
    "current_score = initial_score.copy()\n",
    "\n",
    "stock_location_dict = {}\n",
    "for i in range(num_of_stocks):\n",
    "    stock_location_dict[i] = find_stock_location(list_of_stocks, i)\n",
    "    #for exmaple, stock_location_dict[0] = (1,3) means the location is group_1 and 3 within group_1 \n",
    "    \n",
    "#in this method, stock_location_dict needs to be updated whenever locations changed\n",
    "def fast_stock_location(stock_number):\n",
    "    return stock_location_dict[stock_number]\n",
    "\n",
    "#swap function will be used when exchanging a pair of stocks between two different groups\n",
    "#it exchanges the location of stock1 with that of stock2 in list_of_stocks\n",
    "def swap(list_of_stocks,stock1,stock2):\n",
    "    stock_list = list_of_stocks.copy()\n",
    "    loc_of_stock1 = fast_stock_location(stock1)\n",
    "    loc_of_stock2 = fast_stock_location(stock2)\n",
    "    stock_list[loc_of_stock1], stock_list[loc_of_stock2] = stock_list[loc_of_stock2], stock_list[loc_of_stock1]\n",
    "    return stock_list\n",
    "    \n",
    "    #list_of_stocks = swap(list_of_stocks, stock1, stock2)\n",
    "    #stock_location_dict.update({stock1:loc_of_stock2, stock2: loc_of_stock1})\n",
    "\n",
    "def swap_between_groups(list_of_stocks, group1, group2):\n",
    "    min_ = 9999  #initialization of the variables\n",
    "    \n",
    "    current_score_for_two = current_score[group1]+current_score[group2] \n",
    "    \n",
    "    for stock1 in list_of_stocks[group1]:\n",
    "        for stock2 in list_of_stocks[group2]:\n",
    "        \n",
    "            stock_list = swap(list_of_stocks,stock1,stock2)\n",
    "        \n",
    "            intra_value_1 = intra_group_sum_corr_matrix(stock_list, group1)\n",
    "            inter_value_1 = intra_group_sum_corr_matrix(stock_list, group1)\n",
    "            score_1 = inter_value_1/intra_value_1\n",
    "\n",
    "            intra_value_2 = intra_group_sum_corr_matrix(stock_list, group2)\n",
    "            inter_value_2 = intra_group_sum_corr_matrix(stock_list, group2)\n",
    "            score_2 = inter_value_2/intra_value_2\n",
    "\n",
    "            if score_1 + score_2 < current_score_for_two:\n",
    "                list_of_stocks = stock_list.copy()\n",
    "                loc_of_stock1 = fast_stock_location(stock1)\n",
    "                loc_of_stock2 = fast_stock_location(stock2)\n",
    "                stock_location_dict.update({stock1:loc_of_stock2, stock2: loc_of_stock1})\n",
    "                current_score[group1] = score_1\n",
    "                current_score[group2] = score_2\n",
    "                \n",
    "def optimize_corr_matrix(list_of_stocks):\n",
    "    for i in range(10):\n",
    "        for j in range(10):\n",
    "            if i == j:\n",
    "                continue\n",
    "            print('optimizing group_{} with group_{}'.format(i, j),'has started its loop')\n",
    "            swap_between_groups(list_of_stocks, i, j)"
   ]
  },
  {
   "cell_type": "code",
   "execution_count": 38,
   "metadata": {
    "collapsed": false
   },
   "outputs": [
    {
     "name": "stdout",
     "output_type": "stream",
     "text": [
      "optimizing group_0 with group_1 has started its loop\n",
      "optimizing group_0 with group_2 has started its loop\n",
      "optimizing group_0 with group_3 has started its loop\n",
      "optimizing group_0 with group_4 has started its loop\n",
      "optimizing group_0 with group_5 has started its loop\n",
      "optimizing group_0 with group_6 has started its loop\n",
      "optimizing group_0 with group_7 has started its loop\n",
      "optimizing group_0 with group_8 has started its loop\n",
      "optimizing group_0 with group_9 has started its loop\n",
      "optimizing group_1 with group_0 has started its loop\n",
      "optimizing group_1 with group_2 has started its loop\n",
      "optimizing group_1 with group_3 has started its loop\n",
      "optimizing group_1 with group_4 has started its loop\n",
      "optimizing group_1 with group_5 has started its loop\n",
      "optimizing group_1 with group_6 has started its loop\n",
      "optimizing group_1 with group_7 has started its loop\n",
      "optimizing group_1 with group_8 has started its loop\n",
      "optimizing group_1 with group_9 has started its loop\n",
      "optimizing group_2 with group_0 has started its loop\n",
      "optimizing group_2 with group_1 has started its loop\n",
      "optimizing group_2 with group_3 has started its loop\n",
      "optimizing group_2 with group_4 has started its loop\n",
      "optimizing group_2 with group_5 has started its loop\n",
      "optimizing group_2 with group_6 has started its loop\n",
      "optimizing group_2 with group_7 has started its loop\n",
      "optimizing group_2 with group_8 has started its loop\n",
      "optimizing group_2 with group_9 has started its loop\n",
      "optimizing group_3 with group_0 has started its loop\n",
      "optimizing group_3 with group_1 has started its loop\n",
      "optimizing group_3 with group_2 has started its loop\n",
      "optimizing group_3 with group_4 has started its loop\n",
      "optimizing group_3 with group_5 has started its loop\n",
      "optimizing group_3 with group_6 has started its loop\n",
      "optimizing group_3 with group_7 has started its loop\n",
      "optimizing group_3 with group_8 has started its loop\n",
      "optimizing group_3 with group_9 has started its loop\n",
      "optimizing group_4 with group_0 has started its loop\n",
      "optimizing group_4 with group_1 has started its loop\n",
      "optimizing group_4 with group_2 has started its loop\n",
      "optimizing group_4 with group_3 has started its loop\n",
      "optimizing group_4 with group_5 has started its loop\n",
      "optimizing group_4 with group_6 has started its loop\n",
      "optimizing group_4 with group_7 has started its loop\n",
      "optimizing group_4 with group_8 has started its loop\n",
      "optimizing group_4 with group_9 has started its loop\n",
      "optimizing group_5 with group_0 has started its loop\n",
      "optimizing group_5 with group_1 has started its loop\n",
      "optimizing group_5 with group_2 has started its loop\n",
      "optimizing group_5 with group_3 has started its loop\n",
      "optimizing group_5 with group_4 has started its loop\n",
      "optimizing group_5 with group_6 has started its loop\n",
      "optimizing group_5 with group_7 has started its loop\n",
      "optimizing group_5 with group_8 has started its loop\n",
      "optimizing group_5 with group_9 has started its loop\n",
      "optimizing group_6 with group_0 has started its loop\n",
      "optimizing group_6 with group_1 has started its loop\n",
      "optimizing group_6 with group_2 has started its loop\n",
      "optimizing group_6 with group_3 has started its loop\n",
      "optimizing group_6 with group_4 has started its loop\n",
      "optimizing group_6 with group_5 has started its loop\n",
      "optimizing group_6 with group_7 has started its loop\n",
      "optimizing group_6 with group_8 has started its loop\n",
      "optimizing group_6 with group_9 has started its loop\n",
      "optimizing group_7 with group_0 has started its loop\n",
      "optimizing group_7 with group_1 has started its loop\n",
      "optimizing group_7 with group_2 has started its loop\n",
      "optimizing group_7 with group_3 has started its loop\n",
      "optimizing group_7 with group_4 has started its loop\n",
      "optimizing group_7 with group_5 has started its loop\n",
      "optimizing group_7 with group_6 has started its loop\n",
      "optimizing group_7 with group_8 has started its loop\n",
      "optimizing group_7 with group_9 has started its loop\n",
      "optimizing group_8 with group_0 has started its loop\n",
      "optimizing group_8 with group_1 has started its loop\n",
      "optimizing group_8 with group_2 has started its loop\n",
      "optimizing group_8 with group_3 has started its loop\n",
      "optimizing group_8 with group_4 has started its loop\n",
      "optimizing group_8 with group_5 has started its loop\n",
      "optimizing group_8 with group_6 has started its loop\n",
      "optimizing group_8 with group_7 has started its loop\n",
      "optimizing group_8 with group_9 has started its loop\n",
      "optimizing group_9 with group_0 has started its loop\n",
      "optimizing group_9 with group_1 has started its loop\n",
      "optimizing group_9 with group_2 has started its loop\n",
      "optimizing group_9 with group_3 has started its loop\n",
      "optimizing group_9 with group_4 has started its loop\n",
      "optimizing group_9 with group_5 has started its loop\n",
      "optimizing group_9 with group_6 has started its loop\n",
      "optimizing group_9 with group_7 has started its loop\n",
      "optimizing group_9 with group_8 has started its loop\n"
     ]
    }
   ],
   "source": [
    "optimize_corr_matrix(list_of_stocks)"
   ]
  },
  {
   "cell_type": "code",
   "execution_count": 39,
   "metadata": {
    "collapsed": false
   },
   "outputs": [
    {
     "data": {
      "text/plain": [
       "0.0005616102499263545"
      ]
     },
     "execution_count": 39,
     "metadata": {},
     "output_type": "execute_result"
    }
   ],
   "source": [
    "objective_function(list_of_stocks)"
   ]
  },
  {
   "cell_type": "code",
   "execution_count": 10,
   "metadata": {
    "collapsed": false
   },
   "outputs": [],
   "source": [
    "initial_list_of_stocks = list_of_stocks.copy()\n",
    "current_min = objective_function(initial_list_of_stocks)"
   ]
  },
  {
   "cell_type": "code",
   "execution_count": 11,
   "metadata": {
    "collapsed": false
   },
   "outputs": [
    {
     "data": {
      "text/plain": [
       "0.00056183968503703162"
      ]
     },
     "execution_count": 11,
     "metadata": {},
     "output_type": "execute_result"
    }
   ],
   "source": [
    "objective_function(initial_list_of_stocks)\n",
    "#list_of_stocks = initial_list_of_stocks.copy()"
   ]
  },
  {
   "cell_type": "code",
   "execution_count": 40,
   "metadata": {
    "collapsed": false,
    "scrolled": true
   },
   "outputs": [
    {
     "data": {
      "text/plain": [
       "array([[1890, 1729, 1862, ..., 1926, 1196, 1361],\n",
       "       [ 735, 1579,  827, ...,  893,   64, 1757],\n",
       "       [   3, 1895, 1911, ...,   59, 1705, 1864],\n",
       "       ..., \n",
       "       [1052, 1189, 1226, ...,  716,   45,  139],\n",
       "       [1592, 1825, 1732, ...,  540, 1339, 1238],\n",
       "       [1415, 1166,  971, ...,  500,   48,    0]])"
      ]
     },
     "execution_count": 40,
     "metadata": {},
     "output_type": "execute_result"
    }
   ],
   "source": [
    "list_of_stocks"
   ]
  },
  {
   "cell_type": "code",
   "execution_count": 51,
   "metadata": {
    "collapsed": false
   },
   "outputs": [
    {
     "data": {
      "text/plain": [
       "0"
      ]
     },
     "execution_count": 51,
     "metadata": {},
     "output_type": "execute_result"
    }
   ],
   "source": [
    "list(stock_location_dict[0])\n",
    "alternative_list"
   ]
  },
  {
   "cell_type": "code",
   "execution_count": 52,
   "metadata": {
    "collapsed": false
   },
   "outputs": [
    {
     "data": {
      "text/plain": [
       "array([[ 467,   40,  452, ..., 1678, 1601, 1568],\n",
       "       [1430,  468,  610, ..., 1815,  765, 1810],\n",
       "       [1322,  855, 1117, ..., 1312,  345,  231],\n",
       "       ..., \n",
       "       [1891, 1443,  980, ..., 1321,  742,  409],\n",
       "       [1126,  782, 1317, ..., 1221, 1330, 1358],\n",
       "       [1509, 1138, 1927, ...,  319, 1862, 1890]])"
      ]
     },
     "execution_count": 52,
     "metadata": {},
     "output_type": "execute_result"
    }
   ],
   "source": [
    "alternative_list = np.arange(2000).reshape((10,200))\n",
    "for i in range(2000):\n",
    "    alternative_list[list(stock_location_dict[i])[0],list(stock_location_dict[i])[1]] = i\n",
    "    \n",
    "alternative_list"
   ]
  },
  {
   "cell_type": "code",
   "execution_count": 53,
   "metadata": {
    "collapsed": false
   },
   "outputs": [
    {
     "data": {
      "text/plain": [
       "0.00087510850628080231"
      ]
     },
     "execution_count": 53,
     "metadata": {},
     "output_type": "execute_result"
    }
   ],
   "source": [
    "objective_function(alternative_list)"
   ]
  },
  {
   "cell_type": "code",
   "execution_count": null,
   "metadata": {
    "collapsed": true
   },
   "outputs": [],
   "source": []
  },
  {
   "cell_type": "code",
   "execution_count": 12,
   "metadata": {
    "collapsed": false
   },
   "outputs": [],
   "source": [
    "stock_location_dict = {}\n",
    "for i in range(num_of_stocks):\n",
    "    stock_location_dict[i] = find_stock_location(list_of_stocks, i)\n",
    "\n",
    "#in this method, stock_location_dict needs to be updated whenever locations changed\n",
    "def fast_stock_location(stock_number):\n",
    "    return stock_location_dict[stock_number]\n",
    "\n",
    "#swap function will be used when exchanging a pair of stocks between two different groups\n",
    "def swap_without_return(list_of_stocks,stock1,stock2):\n",
    "    loc_of_stock1 = fast_stock_location(stock1)\n",
    "    loc_of_stock2 = fast_stock_location(stock2)\n",
    "    list_of_stocks[loc_of_stock1], list_of_stocks[loc_of_stock2] = list_of_stocks[loc_of_stock2], list_of_stocks[loc_of_stock1]\n",
    "    stock_location_dict.update({stock1:loc_of_stock2, stock2: loc_of_stock1})"
   ]
  },
  {
   "cell_type": "code",
   "execution_count": 13,
   "metadata": {
    "collapsed": false
   },
   "outputs": [],
   "source": [
    "reference_total = set(np.arange(2000))\n",
    "def find_the_min(list_of_stocks, group_list, stock_loc): #stock_loc is the location index within the group\n",
    "    stock = group_list[stock_loc]\n",
    "    reference = reference_total - set(group_list) | {stock}\n",
    "    result = find_the_next_min(np.delete(group_list,stock_loc), reference)\n",
    "    global current_min\n",
    "    if result[0] != stock: \n",
    "        swap(list_of_stocks, stock, result[0])\n",
    "        temp_ = objective_function(list_of_stocks)\n",
    "        if  temp_ < current_min:\n",
    "            current_min = temp_\n",
    "            print('Swapped, now the min value is', current_min)\n",
    "        else: \n",
    "            swap(list_of_stocks, stock, result[0])\n",
    "            "
   ]
  },
  {
   "cell_type": "code",
   "execution_count": 14,
   "metadata": {
    "collapsed": false
   },
   "outputs": [
    {
     "data": {
      "text/plain": [
       "0.00056183968503703162"
      ]
     },
     "execution_count": 14,
     "metadata": {},
     "output_type": "execute_result"
    }
   ],
   "source": [
    "current_min"
   ]
  },
  {
   "cell_type": "code",
   "execution_count": 15,
   "metadata": {
    "collapsed": false
   },
   "outputs": [],
   "source": [
    "def optimize_the_first_part(list_of_stocks):\n",
    "    for i in range(50): #here i is the column number (first i elements in each group)\n",
    "        print(i, 'has started')\n",
    "        for j in range(10): #j is the row number (group number)\n",
    "            find_the_min(list_of_stocks, list_of_stocks[j],i)\n",
    "\n",
    "def random_optimize(list_of_stocks, num_of_iteration):\n",
    "    for i in range(num_of_iteration):\n",
    "        find_the_min(list_of_stocks, list_of_stocks[np.random.randint(10)],np.random.randint(200))\n",
    "\n",
    "def optimize_the_second_part(list_of_stocks):\n",
    "    for i in range(150,200): #here i is the column number (first i elements in each group)\n",
    "        print(i, 'has started')\n",
    "        for j in range(10): #j is the row number (group number)\n",
    "            find_the_min(list_of_stocks, list_of_stocks[j],i)\n",
    "            \n",
    "def optimize_the_whole_part(list_of_stocks, num_of_iteration):\n",
    "    for number in range(num_of_iteration):\n",
    "        optimize_the_first_part(list_of_stocks)\n",
    "        optimize_the_second_part(list_of_stocks)"
   ]
  },
  {
   "cell_type": "code",
   "execution_count": 16,
   "metadata": {
    "collapsed": false
   },
   "outputs": [
    {
     "name": "stdout",
     "output_type": "stream",
     "text": [
      "0 has started\n",
      "Swapped, now the min value is 0.000561406585407\n",
      "1 has started\n",
      "Swapped, now the min value is 0.00056136874099\n",
      "2 has started\n",
      "3 has started\n",
      "Swapped, now the min value is 0.00056129784413\n",
      "4 has started\n",
      "5 has started\n",
      "Swapped, now the min value is 0.000561283836741\n",
      "6 has started\n",
      "7 has started\n",
      "8 has started\n",
      "9 has started\n",
      "10 has started\n",
      "11 has started\n",
      "Swapped, now the min value is 0.000561264831862\n",
      "12 has started\n",
      "13 has started\n",
      "14 has started\n",
      "15 has started\n",
      "16 has started\n",
      "17 has started\n",
      "18 has started\n",
      "19 has started\n",
      "20 has started\n",
      "Swapped, now the min value is 0.000561249947149\n",
      "21 has started\n",
      "22 has started\n",
      "23 has started\n",
      "Swapped, now the min value is 0.000561205596527\n",
      "24 has started\n",
      "25 has started\n",
      "26 has started\n",
      "27 has started\n",
      "28 has started\n",
      "29 has started\n",
      "Swapped, now the min value is 0.000561108989494\n",
      "30 has started\n",
      "31 has started\n",
      "32 has started\n",
      "33 has started\n",
      "34 has started\n",
      "35 has started\n",
      "36 has started\n",
      "37 has started\n",
      "38 has started\n",
      "Swapped, now the min value is 0.000561053089012\n",
      "39 has started\n",
      "40 has started\n",
      "41 has started\n",
      "42 has started\n",
      "43 has started\n",
      "44 has started\n",
      "45 has started\n",
      "46 has started\n",
      "47 has started\n",
      "48 has started\n",
      "49 has started\n",
      "150 has started\n",
      "151 has started\n",
      "Swapped, now the min value is 0.000561047561082\n",
      "152 has started\n",
      "153 has started\n",
      "154 has started\n",
      "155 has started\n",
      "Swapped, now the min value is 0.000560988210988\n",
      "156 has started\n",
      "157 has started\n",
      "Swapped, now the min value is 0.00056093722083\n",
      "158 has started\n",
      "159 has started\n",
      "160 has started\n",
      "161 has started\n",
      "162 has started\n",
      "163 has started\n",
      "164 has started\n",
      "165 has started\n",
      "166 has started\n",
      "167 has started\n",
      "168 has started\n",
      "169 has started\n",
      "170 has started\n",
      "Swapped, now the min value is 0.000560867606205\n",
      "171 has started\n",
      "172 has started\n",
      "173 has started\n",
      "Swapped, now the min value is 0.000560864007617\n",
      "174 has started\n",
      "175 has started\n",
      "176 has started\n",
      "177 has started\n",
      "178 has started\n",
      "179 has started\n",
      "Swapped, now the min value is 0.000560669335372\n",
      "180 has started\n",
      "181 has started\n",
      "182 has started\n",
      "183 has started\n",
      "184 has started\n",
      "185 has started\n",
      "186 has started\n",
      "187 has started\n",
      "188 has started\n",
      "189 has started\n",
      "190 has started\n",
      "191 has started\n",
      "192 has started\n",
      "193 has started\n",
      "194 has started\n",
      "195 has started\n",
      "196 has started\n",
      "Swapped, now the min value is 0.000560667808231\n",
      "197 has started\n",
      "Swapped, now the min value is 0.000560536185601\n",
      "198 has started\n",
      "199 has started\n",
      "Swapped, now the min value is 0.000560494835031\n"
     ]
    }
   ],
   "source": [
    "optimize_the_whole_part(list_of_stocks,1)"
   ]
  },
  {
   "cell_type": "code",
   "execution_count": 17,
   "metadata": {
    "collapsed": true
   },
   "outputs": [],
   "source": [
    "answer_list = list_of_stocks.copy()"
   ]
  },
  {
   "cell_type": "code",
   "execution_count": 18,
   "metadata": {
    "collapsed": false
   },
   "outputs": [
    {
     "data": {
      "text/plain": [
       "0.00056049483503055894"
      ]
     },
     "execution_count": 18,
     "metadata": {},
     "output_type": "execute_result"
    }
   ],
   "source": [
    "current_min"
   ]
  },
  {
   "cell_type": "code",
   "execution_count": 55,
   "metadata": {
    "collapsed": false
   },
   "outputs": [
    {
     "data": {
      "text/plain": [
       "2000"
      ]
     },
     "execution_count": 55,
     "metadata": {},
     "output_type": "execute_result"
    }
   ],
   "source": [
    "a = set()\n",
    "for i in range(10):\n",
    "    a.update(set(list_of_stocks[i]))\n",
    "len(a) #this shows that there is no dupulicated element"
   ]
  },
  {
   "cell_type": "code",
   "execution_count": 37,
   "metadata": {
    "collapsed": false
   },
   "outputs": [
    {
     "ename": "NameError",
     "evalue": "name 'answer_list' is not defined",
     "output_type": "error",
     "traceback": [
      "\u001b[0;31m---------------------------------------------------------------------------\u001b[0m",
      "\u001b[0;31mNameError\u001b[0m                                 Traceback (most recent call last)",
      "\u001b[0;32m<ipython-input-37-f74d5ef594be>\u001b[0m in \u001b[0;36m<module>\u001b[0;34m()\u001b[0m\n\u001b[0;32m----> 1\u001b[0;31m \u001b[0mobjective_function\u001b[0m\u001b[0;34m(\u001b[0m\u001b[0manswer_list\u001b[0m\u001b[0;34m)\u001b[0m\u001b[0;34m\u001b[0m\u001b[0m\n\u001b[0m",
      "\u001b[0;31mNameError\u001b[0m: name 'answer_list' is not defined"
     ]
    }
   ],
   "source": [
    "objective_function(answer_list)"
   ]
  },
  {
   "cell_type": "code",
   "execution_count": 48,
   "metadata": {
    "collapsed": false
   },
   "outputs": [],
   "source": [
    "def minimize(list_of_stocks, fixed_row = 0,fixed_col = 199):\n",
    "    result = {}\n",
    "    global current_min\n",
    "    \n",
    "    for i in range(0,10):\n",
    "        if i != fixed_row: #here being in the same row means being in the same group - so avoids the case\n",
    "            print(i, 'started')\n",
    "            for j in range(0,199):\n",
    "                temp_list = list_of_stocks.copy()\n",
    "                swap(temp_list,temp_list[fixed_row,j],temp_list[i,fixed_col])\n",
    "                temp_ = objective_function(temp_list)\n",
    "                if  temp_ < current_min:\n",
    "                    current_min = temp_\n",
    "                    print('found',(list_of_stocks[fixed_row,j],list_of_stocks[i,fixed_col]), temp_)\n",
    "                    result[(list_of_stocks[fixed_row,j],list_of_stocks[i,fixed_col])] = temp_ \n",
    "    return result\n",
    "swap(list_of_stocks, stock, result[0])\n",
    "        temp_ = objective_function(list_of_stocks)\n",
    "        if  temp_ < current_min:\n",
    "            current_min = temp_\n",
    "            print('Swapped, now the min value is', current_min)\n",
    "        else: \n",
    "            swap(list_of_stocks, stock, result[0])\n",
    "#starting fixed_row = 0, fixed_col = 199\n",
    "#in the swapping process, \n",
    "#I chose the very last elements in each group first as they contribute to the TICS the least"
   ]
  },
  {
   "cell_type": "code",
   "execution_count": 84,
   "metadata": {
    "collapsed": false
   },
   "outputs": [
    {
     "data": {
      "text/plain": [
       "0.0005616102499263545"
      ]
     },
     "execution_count": 84,
     "metadata": {},
     "output_type": "execute_result"
    }
   ],
   "source": [
    "objective_function(list_of_stocks)"
   ]
  },
  {
   "cell_type": "code",
   "execution_count": 115,
   "metadata": {
    "collapsed": false
   },
   "outputs": [
    {
     "name": "stdout",
     "output_type": "stream",
     "text": [
      "CPU times: user 2 µs, sys: 1 µs, total: 3 µs\n",
      "Wall time: 4.05 µs\n"
     ]
    },
    {
     "data": {
      "image/png": "[encoded data removed]",
      "text/plain": [
       "<matplotlib.figure.Figure at 0x11c4359b0>"
      ]
     },
     "metadata": {},
     "output_type": "display_data"
    }
   ],
   "source": [
    "%time\n",
    "import matplotlib.pyplot as plt\n",
    "%matplotlib inline\n",
    "x = np.arange(2000)\n",
    "y = np.arange(2000)\n",
    "x, y = np.meshgrid(x, y)\n",
    "\n",
    "#convert intensity (list of lists) to a numpy array for plotting\n",
    "intensity = corr_matrix.copy()[list_of_stocks.flatten(),:][:,list_of_stocks.flatten()]\n",
    "\n",
    "#now just plug the data into pcolormesh, it's that easy!\n",
    "plt.pcolormesh(x, y, intensity)\n",
    "plt.colorbar() #need a colorbar to show the intensity scale\n",
    "plt.show()"
   ]
  },
  {
   "cell_type": "code",
   "execution_count": 107,
   "metadata": {
    "collapsed": false
   },
   "outputs": [
    {
     "data": {
      "text/plain": [
       "(2000,)"
      ]
     },
     "execution_count": 107,
     "metadata": {},
     "output_type": "execute_result"
    }
   ],
   "source": [
    "np.array(list(list_of_stocks.flatten()))"
   ]
  },
  {
   "cell_type": "code",
   "execution_count": null,
   "metadata": {
    "collapsed": true
   },
   "outputs": [],
   "source": []
  }
 ],
 "metadata": {
  "kernelspec": {
   "display_name": "Python 3",
   "language": "python",
   "name": "python3"
  },
  "language_info": {
   "codemirror_mode": {
    "name": "ipython",
    "version": 3
   },
   "file_extension": ".py",
   "mimetype": "text/x-python",
   "name": "python",
   "nbconvert_exporter": "python",
   "pygments_lexer": "ipython3",
   "version": "3.6.0"
  }
 },
 "nbformat": 4,
 "nbformat_minor": 2
}
