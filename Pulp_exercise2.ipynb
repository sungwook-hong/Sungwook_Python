{
 "cells": [
  {
   "cell_type": "code",
   "execution_count": 2,
   "metadata": {
    "collapsed": true
   },
   "outputs": [],
   "source": [
    "from pulp import *"
   ]
  },
  {
   "cell_type": "code",
   "execution_count": 9,
   "metadata": {
    "collapsed": false
   },
   "outputs": [],
   "source": [
    "prob = pulp.LpProblem('testing_lp2', pulp.LpMinimize)"
   ]
  },
  {
   "cell_type": "code",
   "execution_count": 10,
   "metadata": {
    "collapsed": false
   },
   "outputs": [],
   "source": [
    "decision_variables = []\n",
    "for i in range(1,2+1):\n",
    "    variable = ''.join(['y',str(i)])\n",
    "    variable = pulp.LpVariable(variable, lowBound = 0, cat = 'Continuous') \n",
    "    decision_variables.append(variable)\n",
    "    \n",
    "cost_function = ''\n",
    "coefficient_list = [10, 10]\n",
    "for i, variable in enumerate(decision_variables):\n",
    "    cost_function += coefficient_list[i]*variable\n",
    "\n",
    "prob += cost_function\n",
    "\n"
   ]
  },
  {
   "cell_type": "code",
   "execution_count": 11,
   "metadata": {
    "collapsed": false
   },
   "outputs": [],
   "source": [
    "constraint_matrix = [[1,3], [2,3], [1,2]] \n",
    "constraint_rhs = [2, 7, 4]\n",
    "\n",
    "for i in range(len(constraint_matrix)):\n",
    "    constraint = ''\n",
    "    row = constraint_matrix[i]\n",
    "    for j, value in enumerate(decision_variables):\n",
    "        constraint += row[j]*value\n",
    "    prob += (constraint >= constraint_rhs[i])"
   ]
  },
  {
   "cell_type": "code",
   "execution_count": 12,
   "metadata": {
    "collapsed": false
   },
   "outputs": [
    {
     "name": "stdout",
     "output_type": "stream",
     "text": [
      "testing_lp2:\n",
      "MINIMIZE\n",
      "10*y1 + 10*y2 + 0\n",
      "SUBJECT TO\n",
      "_C1: y1 + 3 y2 >= 2\n",
      "\n",
      "_C2: 2 y1 + 3 y2 >= 7\n",
      "\n",
      "_C3: y1 + 2 y2 >= 4\n",
      "\n",
      "VARIABLES\n",
      "y1 Continuous\n",
      "y2 Continuous\n",
      "\n"
     ]
    }
   ],
   "source": [
    "print(prob)"
   ]
  },
  {
   "cell_type": "code",
   "execution_count": 13,
   "metadata": {
    "collapsed": false
   },
   "outputs": [
    {
     "data": {
      "text/plain": [
       "1"
      ]
     },
     "execution_count": 13,
     "metadata": {},
     "output_type": "execute_result"
    }
   ],
   "source": [
    "optimization_result = prob.solve()\n",
    "optimization_result"
   ]
  },
  {
   "cell_type": "code",
   "execution_count": 36,
   "metadata": {
    "collapsed": false
   },
   "outputs": [
    {
     "data": {
      "text/plain": [
       "1"
      ]
     },
     "execution_count": 36,
     "metadata": {},
     "output_type": "execute_result"
    }
   ],
   "source": [
    "pulp.LpStatusOptimal"
   ]
  },
  {
   "cell_type": "code",
   "execution_count": 37,
   "metadata": {
    "collapsed": false
   },
   "outputs": [
    {
     "data": {
      "text/plain": [
       "'Optimal'"
      ]
     },
     "execution_count": 37,
     "metadata": {},
     "output_type": "execute_result"
    }
   ],
   "source": [
    "LpStatus[prob.status]"
   ]
  },
  {
   "cell_type": "code",
   "execution_count": 14,
   "metadata": {
    "collapsed": false
   },
   "outputs": [
    {
     "data": {
      "text/plain": [
       "23.333333"
      ]
     },
     "execution_count": 14,
     "metadata": {},
     "output_type": "execute_result"
    }
   ],
   "source": [
    "pulp.value(prob.objective)"
   ]
  },
  {
   "cell_type": "code",
   "execution_count": 15,
   "metadata": {
    "collapsed": false
   },
   "outputs": [
    {
     "name": "stdout",
     "output_type": "stream",
     "text": [
      "y1 0.0\n",
      "y2 2.3333333\n"
     ]
    }
   ],
   "source": [
    "for v in prob.variables():\n",
    "    print(v.name, v.varValue)"
   ]
  },
  {
   "cell_type": "code",
   "execution_count": 20,
   "metadata": {
    "collapsed": false
   },
   "outputs": [],
   "source": [
    "import numpy as np\n",
    "import pandas as pd\n",
    "\n",
    "df = pd.DataFrame(np.arange(1,25+1).reshape(5,5))"
   ]
  },
  {
   "cell_type": "code",
   "execution_count": 24,
   "metadata": {
    "collapsed": false
   },
   "outputs": [
    {
     "name": "stdout",
     "output_type": "stream",
     "text": [
      "0    1\n",
      "1    2\n",
      "2    3\n",
      "3    4\n",
      "4    5\n",
      "Name: 0, dtype: int64\n",
      "0     6\n",
      "1     7\n",
      "2     8\n",
      "3     9\n",
      "4    10\n",
      "Name: 1, dtype: int64\n",
      "0    11\n",
      "1    12\n",
      "2    13\n",
      "3    14\n",
      "4    15\n",
      "Name: 2, dtype: int64\n",
      "0    16\n",
      "1    17\n",
      "2    18\n",
      "3    19\n",
      "4    20\n",
      "Name: 3, dtype: int64\n",
      "0    21\n",
      "1    22\n",
      "2    23\n",
      "3    24\n",
      "4    25\n",
      "Name: 4, dtype: int64\n"
     ]
    }
   ],
   "source": [
    "for rownum, row in df.iterrows():\n",
    "    print(row)"
   ]
  },
  {
   "cell_type": "code",
   "execution_count": null,
   "metadata": {
    "collapsed": true
   },
   "outputs": [],
   "source": []
  }
 ],
 "metadata": {
  "kernelspec": {
   "display_name": "Python 3",
   "language": "python",
   "name": "python3"
  },
  "language_info": {
   "codemirror_mode": {
    "name": "ipython",
    "version": 3
   },
   "file_extension": ".py",
   "mimetype": "text/x-python",
   "name": "python",
   "nbconvert_exporter": "python",
   "pygments_lexer": "ipython3",
   "version": "3.6.0"
  }
 },
 "nbformat": 4,
 "nbformat_minor": 2
}
